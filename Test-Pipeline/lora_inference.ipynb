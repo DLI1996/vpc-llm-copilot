{
 "cells": [
  {
   "cell_type": "code",
   "execution_count": null,
   "metadata": {},
   "outputs": [],
   "source": [
    "import os\n",
    "os.environ[\"CUDA_VISIBLE_DEVICES\"] = \"7\"\n",
    "\n",
    "import torch\n",
    "import pandas as pd\n",
    "from transformers import AutoTokenizer, AutoModelForCausalLM, BitsAndBytesConfig\n",
    "from peft import PeftModel\n",
    "\n",
    "\n",
    "# Load the base Llama 2 7B model\n",
    "base_model_id = \"NousResearch/Llama-2-7b-hf\"\n",
    "bnb_config = BitsAndBytesConfig(\n",
    "    load_in_4bit=True,\n",
    "    bnb_4bit_use_double_quant=True,\n",
    "    bnb_4bit_quant_type=\"nf4\",\n",
    "    bnb_4bit_compute_dtype=torch.bfloat16\n",
    ")\n",
    "base_model = AutoModelForCausalLM.from_pretrained(\n",
    "    base_model_id, \n",
    "    quantization_config=bnb_config, \n",
    "    device_map=\"auto\",\n",
    "    trust_remote_code=True\n",
    ")\n",
    "tokenizer = AutoTokenizer.from_pretrained(base_model_id, add_bos_token=True, trust_remote_code=True)\n",
    "\n",
    "# Load the QLoRA adapter\n",
    "path_llm_model = \"amazon_lora_llm/llama2-7b-AmazonVPC-finetune/checkpoint-500\"\n",
    "ft_model = PeftModel.from_pretrained(base_model, path_llm_model)\n",
    "\n",
    "def clean_output(output):\n",
    "    # Example of cleaning up output - adjust as needed based on the actual output format\n",
    "    answer_start = output.find(\"### Answer:\")\n",
    "    if answer_start != -1:\n",
    "        return output[answer_start + len(\"### Answer:\"):].strip()\n",
    "    return output\n",
    "\n",
    "# Function to generate LLM answer\n",
    "def generate_llm_answer(question):\n",
    "    #question = question + \" #\"\n",
    "    print('question processing')\n",
    "    model_input = tokenizer(question, return_tensors=\"pt\").to(\"cuda\")\n",
    "    ft_model.eval()\n",
    "    with torch.no_grad():\n",
    "        raw_output = tokenizer.decode(ft_model.generate(**model_input, max_new_tokens=300)[0], skip_special_tokens=True)\n",
    "        return clean_output(raw_output)"
   ]
  },
  {
   "cell_type": "code",
   "execution_count": null,
   "metadata": {},
   "outputs": [],
   "source": [
    "# Read CSV file\n",
    "df = pd.read_csv(\"test.csv\")\n",
    "\n",
    "# Generate LLM answers for each question\n",
    "df['llm_answer'] = df['question'].apply(generate_llm_answer)\n",
    "\n",
    "# Save the new DataFrame to a CSV file\n",
    "df.to_csv(\"llm_output_test.csv\", index=False)\n"
   ]
  },
  {
   "cell_type": "code",
   "execution_count": null,
   "metadata": {},
   "outputs": [],
   "source": [
    "pd.set_option('display.max_colwidth', None)  # This will remove the truncation of column content\n",
    "df"
   ]
  },
  {
   "cell_type": "code",
   "execution_count": null,
   "metadata": {},
   "outputs": [],
   "source": []
  }
 ],
 "metadata": {
  "kernelspec": {
   "display_name": "Python 3",
   "language": "python",
   "name": "python3"
  },
  "language_info": {
   "codemirror_mode": {
    "name": "ipython",
    "version": 3
   },
   "file_extension": ".py",
   "mimetype": "text/x-python",
   "name": "python",
   "nbconvert_exporter": "python",
   "pygments_lexer": "ipython3",
   "version": "3.10.12"
  }
 },
 "nbformat": 4,
 "nbformat_minor": 2
}
