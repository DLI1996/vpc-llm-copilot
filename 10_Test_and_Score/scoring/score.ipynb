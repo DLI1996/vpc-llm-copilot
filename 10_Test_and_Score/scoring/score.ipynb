{
 "cells": [
  {
   "cell_type": "markdown",
   "metadata": {},
   "source": [
    "### Setup\n",
    "\n",
    "At the time, HF's [evaluation comparison](https://huggingface.co/spaces/evaluate-comparison) space is down. Therefore, below is a couple metrics picked to measure the performances of our different proposed models/structures. "
   ]
  },
  {
   "cell_type": "code",
   "execution_count": 1,
   "metadata": {},
   "outputs": [],
   "source": [
    "import os\n",
    "os.environ['HF_TQDM'] = \"false\" # disable tqdm output globally, turn off when testing"
   ]
  },
  {
   "cell_type": "code",
   "execution_count": 2,
   "metadata": {},
   "outputs": [],
   "source": [
    "import warnings\n",
    "warnings.filterwarnings('ignore')"
   ]
  },
  {
   "cell_type": "code",
   "execution_count": 3,
   "metadata": {},
   "outputs": [],
   "source": [
    "from evaluate import load\n",
    "from typing import List, Union"
   ]
  },
  {
   "cell_type": "markdown",
   "metadata": {},
   "source": [
    "### BLEU\n",
    "\n",
    "Bilingual Evaluation Understudy is a metric used to evaluate the quality of machine-generated translations against one or more reference translations. It measures the similarity between the machine-generated translation and the reference translations based on the **n-grams** (contiguous sequences of n words) present in both. BLEU score ranges from 0 to 1, with a higher score indicating a better match between the generated translation and the references. A score of 1 means a perfect match, while a score of 0 means no overlap between the generated and reference translations. [Reference](https://huggingface.co/spaces/evaluate-metric/bleu), and also available [sacrebleu](https://huggingface.co/spaces/evaluate-metric/sacrebleu) and [GLUE](https://huggingface.co/spaces/evaluate-metric/google_bleu)"
   ]
  },
  {
   "cell_type": "code",
   "execution_count": 4,
   "metadata": {},
   "outputs": [
    {
     "name": "stdout",
     "output_type": "stream",
     "text": [
      "{'bleu': 1.0, 'precisions': [1.0, 1.0, 1.0, 1.0], 'brevity_penalty': 1.0, 'length_ratio': 1.1666666666666667, 'translation_length': 7, 'reference_length': 6}\n"
     ]
    }
   ],
   "source": [
    "predictions = [\"hello there general kenobi\", \"foo bar foobar\"]\n",
    "references = [\n",
    "                [\"hello there general kenobi\", \"hello there !\"],\n",
    "                [\"foo bar foobar\"]\n",
    "]\n",
    "bleu = load(\"bleu\")\n",
    "results = bleu.compute(predictions=predictions, references=references)\n",
    "print(results)"
   ]
  },
  {
   "cell_type": "code",
   "execution_count": 5,
   "metadata": {},
   "outputs": [],
   "source": [
    "def score_with_bleu(predictions: Union[str, List[str]], references: Union[List[str], List[List[str]]]) -> float: \n",
    "    \"\"\"Generate BLEU score (0 to 1) for generated answers against original answers\"\"\"\n",
    "    # in case string, convert to acceptable format for HF\n",
    "    if isinstance(predictions, str): predictions = [predictions]\n",
    "    if isinstance(references, str): references = [[references]]\n",
    "    # computer BLEU score\n",
    "    return bleu.compute(references=references, predictions=predictions)['bleu']"
   ]
  },
  {
   "cell_type": "code",
   "execution_count": 6,
   "metadata": {},
   "outputs": [],
   "source": [
    "# # test with list\n",
    "# predictions = [\"hello there general kenobi\", \"foo bar foobar\"]\n",
    "# references = [\n",
    "#                 [\"hello there general kenobi\"], [\"foo bar foobar\"] # note: each sublist is a reference\n",
    "# ]\n",
    "# score_with_bleu(predictions, references) # should be 1.0"
   ]
  },
  {
   "cell_type": "code",
   "execution_count": 7,
   "metadata": {},
   "outputs": [],
   "source": [
    "# # test with string\n",
    "# score_with_bleu(\"hello there general kenobi\", \"hello there general kenobi\") # should be 1.0"
   ]
  },
  {
   "cell_type": "markdown",
   "metadata": {},
   "source": [
    "#### Technical details"
   ]
  },
  {
   "attachments": {
    "image.png": {
     "image/png": "[encoded data removed]"
    }
   },
   "cell_type": "markdown",
   "metadata": {},
   "source": [
    "From the [original BLUE paper](https://aclanthology.org/P02-1040/), we have:\n",
    "\n",
    "![modified n-gram precision](attachment:image.png)\n",
    "\n",
    "![BLUE details](attachment:image.png)\n",
    "\n",
    "**Limitations and Bias:**\n",
    "\n",
    "- BLEU compares **overlap** in tokens from the predictions and references, **instead of** comparing **meaning**. This can lead to discrepancies between BLEU scores and human ratings.\n",
    "- **Shorter predicted translations achieve higher scores** than longer ones, simply due to how the score is calculated. A brevity penalty is introduced to attempt to counteract this.\n",
    "- BLEU scores are not comparable across different datasets, nor are they comparable across different language.\n",
    "- BLEU scores can vary greatly depending on which parameters are used to generate the scores, especially when different tokenization and normalization techniques are used. It is therefore not possible to compare BLEU scores generated using different parameters, or when these parameters are unknown."
   ]
  },
  {
   "cell_type": "markdown",
   "metadata": {},
   "source": [
    "### ROUGE\n",
    "\n",
    "ROUGE, or **Recall**-Oriented Understudy for Gisting Evaluation, is a set of metrics and a software package used for evaluating automatic summarization and machine translation software in natural language processing. The metrics compare an automatically produced summary or translation against a reference or a set of references (human-produced) summary or translation. The ROUGE values are in the range of 0 to 1, with higher score as better. [reference](https://huggingface.co/spaces/evaluate-metric/rouge)"
   ]
  },
  {
   "cell_type": "code",
   "execution_count": 8,
   "metadata": {},
   "outputs": [
    {
     "data": {
      "text/plain": [
       "{'rouge1': 1.0, 'rouge2': 1.0, 'rougeL': 1.0, 'rougeLsum': 1.0}"
      ]
     },
     "execution_count": 8,
     "metadata": {},
     "output_type": "execute_result"
    }
   ],
   "source": [
    "rouge = load('rouge')\n",
    "predictions = [\"hello there\", \"general kenobi\"]\n",
    "references = [\"hello there\", \"general kenobi\"] # alternative is a list of lists: e.g., references = [[\"hello\", \"there\"], [\"general kenobi\", \"general yoda\"]]\n",
    "results = rouge.compute(predictions=predictions,\n",
    "                        references=references)\n",
    "results"
   ]
  },
  {
   "cell_type": "code",
   "execution_count": 9,
   "metadata": {},
   "outputs": [],
   "source": [
    "def score_with_rouge(predictions: List[str], references:Union[List[str], List[List[str]]], rouge_type:str = 'rougeL') -> float: \n",
    "    \"\"\"score with ROGUE, based on the rogue type specified - default to rougeL for longest common subsequence based scoring\"\"\"\n",
    "    # in case string, convert to acceptable format for HF\n",
    "    if isinstance(predictions, str): predictions = [predictions]\n",
    "    if isinstance(references, str): references = [references]\n",
    "    # compute ROGUE score\n",
    "    return rouge.compute(references=references, predictions=predictions, rouge_types=[rouge_type])[rouge_type]"
   ]
  },
  {
   "cell_type": "code",
   "execution_count": 10,
   "metadata": {},
   "outputs": [],
   "source": [
    "# predictions = [\"hello there\", \"general kenobi\"]\n",
    "# references = [\"hello there\", \"general kenobi\"]\n",
    "# score_with_rouge(predictions, references) # should be 1.0"
   ]
  },
  {
   "cell_type": "code",
   "execution_count": 11,
   "metadata": {},
   "outputs": [],
   "source": [
    "# predictions = \"hello there\"\n",
    "# references = \"hello there\"\n",
    "# score_with_rouge(predictions, references) # should be 1.0"
   ]
  },
  {
   "cell_type": "markdown",
   "metadata": {},
   "source": [
    "#### Technical details"
   ]
  },
  {
   "attachments": {
    "image.png": {
     "image/png": "[encoded data removed]"
    }
   },
   "cell_type": "markdown",
   "metadata": {},
   "source": [
    "From [Schluter (2017)](https://aclanthology.org/E17-2007/), we have:\n",
    "\n",
    "![ROGUE](attachment:image.png)\n",
    "\n",
    "**Limitations and Bias:**\n",
    "\n",
    "The paper discusses several limitations of the ROUGE metric for evaluating automatic summarization systems. One of the main limitations is that there is no natural upper bound on the quality of summarization systems, which makes it difficult to determine when no further improvement is possible. Additionally, the task of summarization is NP-hard, which means that finding the optimal solution is computationally infeasible. While greedy algorithms have been shown to perform well empirically, there is no guarantee that they will always produce the best possible summary. Finally, the paper notes that ROUGE scores are generally low for short summaries and that there has been no substantial improvement in performance on benchmark datasets in the last decade."
   ]
  },
  {
   "cell_type": "markdown",
   "metadata": {},
   "source": [
    "### BERTScore\n",
    "\n",
    "BERTScore leverages the pre-trained contextual embeddings from BERT and matches words in candidate and reference sentences by **cosine similarity**. It has been shown to correlate with human judgment on sentence-level and system-level evaluation. Moreover, BERTScore computes precision, recall, and F1 measure, which can be useful for evaluating different language generation tasks. [reference](https://huggingface.co/spaces/evaluate-metric/bertscore)"
   ]
  },
  {
   "cell_type": "code",
   "execution_count": 12,
   "metadata": {},
   "outputs": [],
   "source": [
    "bertscore = load('bertscore')"
   ]
  },
  {
   "cell_type": "code",
   "execution_count": 13,
   "metadata": {},
   "outputs": [],
   "source": [
    "def score_with_bert(predictions: Union[str, List[str]], references: Union[str, List[str]], lang:str ='en', model_type:str ='distilbert-base-uncased') -> tuple:\n",
    "    \"\"\"Output a dictionary of precision, recall and F1 score for BERTScore (all 0.0 to 1.0), default to English and distilbert-base-uncased (268MB)\"\"\"\n",
    "    # in case string, convert to acceptable format for HF\n",
    "    if isinstance(predictions, str): predictions = [predictions]\n",
    "    if isinstance(references, str): references = [references]\n",
    "    # compute BERTScore\n",
    "    data = bertscore.compute(references=references, predictions=predictions, lang=lang, model_type=model_type)\n",
    "    results = {key: value for key, value in data.items() if key != 'hashcode'}\n",
    "    return results['precision'], results['recall'], results['f1']"
   ]
  },
  {
   "cell_type": "code",
   "execution_count": 14,
   "metadata": {},
   "outputs": [],
   "source": [
    "# predictions = [\"hello there\", \"general kenobi\"]\n",
    "# references = [\"hello there\", \"general kenobi\"]\n",
    "# score_with_bert(predictions, references) # should be 3 lists with 1.0"
   ]
  },
  {
   "cell_type": "markdown",
   "metadata": {},
   "source": [
    "#### Technical Details"
   ]
  },
  {
   "attachments": {
    "image.png": {
     "image/png": "[encoded data removed]"
    }
   },
   "cell_type": "markdown",
   "metadata": {},
   "source": [
    "From original [BERTScore paper](https://openreview.net/pdf?id=SkeHuCVFDr) showed that BERTScore correlates well with human judgment on sentence-level and system-level evaluation, but this depends on the model and language pair selected.\n",
    "\n",
    "![image.png](attachment:image.png)\n",
    "\n",
    "List of BERT models can found [here](https://docs.google.com/spreadsheets/d/1RKOVpselB98Nnh_EOC4A2BYn8_201tmPODpNWu4w7xI/edit#gid=0) - note that calculating the BERTScore metric involves downloading the BERT model that is used to compute the score, which is why here we are using `distilbert-base-uncased` (268MB) as default."
   ]
  },
  {
   "cell_type": "markdown",
   "metadata": {},
   "source": [
    "### Others"
   ]
  },
  {
   "cell_type": "markdown",
   "metadata": {},
   "source": [
    "Not included in our analysis at this stage, \n",
    "\n",
    "- and, not intended\n",
    "    - [Perplexity](https://huggingface.co/spaces/evaluate-metric/perplexity#:~:text=Metric%20Description,text%20it%20was%20trained%20on.): Given a model and an input text sequence, perplexity measures how likely the model is to generate the input text sequence. It is defined as the exponentiated average negative log-likelihood of a sequence, calculated with exponent base `e`. Note that the output value is based heavily on what text the model was trained on. This means that perplexity scores are not comparable between models or datasets.\n",
    "\n",
    "- but, also up for consideration\n",
    "    - [BLEURT](https://huggingface.co/spaces/evaluate-metric/bleurt): a learnt evaluation metric for Natural Language Generation. It is built using multiple phases of transfer learning starting from a pretrained BERT model (Devlin et al. 2018) and then employing another pre-training phrase using synthetic data. Finally it is trained on WMT human annotations. You may run BLEURT out-of-the-box or fine-tune it for your specific application (the latter is expected to perform better).\n",
    "    - [FrugalScore](https://huggingface.co/spaces/evaluate-metric/frugalscore) is a reference-based metric for NLG models evaluation. It is based on a distillation approach that allows to learn a fixed, low cost version of any expensive NLG metric, while retaining most of its original performance. The original [FrugalScore paper](https://arxiv.org/abs/2110.08559) reported that FrugalScore-Tiny retains 97.7/94.7% of the original performance compared to [BertScore](#bertscore) while running 54 times faster and having 84 times less parameters.\n",
    "    - [MAUVE](https://huggingface.co/spaces/evaluate-metric/mauve) is a measure of the statistical gap between two text distributions, e.g., how far the text written by a model is the distribution of human text, using samples from both distributions.\n",
    "    - [ChrF and ChrF++](https://huggingface.co/spaces/evaluate-metric/chrf) are two MT evaluation metrics. They both use the F-score statistic for character n-gram matches, and ChrF++ adds word n-grams as well which correlates more strongly with direct assessment.\n",
    "\n",
    "- but, might be useful for future reference:\n",
    "    - [code_eval](https://huggingface.co/spaces/evaluate-metric/code_eval): This metric implements the evaluation harness for the HumanEval problem solving dataset described in the paper “Evaluating Large Language Models Trained on Code”.\n",
    "    - [SARI](https://huggingface.co/spaces/evaluate-metric/sari): a metric used for evaluating automatic text simplification systems. The metric compares the predicted simplified sentences against the reference and the source sentences. It explicitly measures the goodness of words that are added, deleted and kept by the system. Sari = (F1_add + F1_keep + P_del) / 3 where F1_add: n-gram F1 score for add operation F1_keep: n-gram F1 score for keep operation P_del: n-gram precision score for delete operation n = 4, as in the original paper."
   ]
  },
  {
   "cell_type": "markdown",
   "metadata": {},
   "source": [
    "### Main"
   ]
  },
  {
   "cell_type": "code",
   "execution_count": 15,
   "metadata": {},
   "outputs": [
    {
     "data": {
      "text/html": [
       "<div>\n",
       "<style scoped>\n",
       "    .dataframe tbody tr th:only-of-type {\n",
       "        vertical-align: middle;\n",
       "    }\n",
       "\n",
       "    .dataframe tbody tr th {\n",
       "        vertical-align: top;\n",
       "    }\n",
       "\n",
       "    .dataframe thead th {\n",
       "        text-align: right;\n",
       "    }\n",
       "</style>\n",
       "<table border=\"1\" class=\"dataframe\">\n",
       "  <thead>\n",
       "    <tr style=\"text-align: right;\">\n",
       "      <th></th>\n",
       "      <th>question</th>\n",
       "      <th>answer</th>\n",
       "      <th>llm_answer</th>\n",
       "      <th>llm_rag_answer</th>\n",
       "      <th>rag_answer</th>\n",
       "    </tr>\n",
       "  </thead>\n",
       "  <tbody>\n",
       "    <tr>\n",
       "      <th>0</th>\n",
       "      <td>How can you migrate an IPv4-only Amazon VPC to...</td>\n",
       "      <td>To migrate an IPv4-only Amazon VPC to support ...</td>\n",
       "      <td>To migrate an IPv4-only Amazon Virtual Private...</td>\n",
       "      <td>To migrate an IPv4-only Amazon VPC to support ...</td>\n",
       "      <td>To migrate an IPv4-only Amazon VPC to support ...</td>\n",
       "    </tr>\n",
       "    <tr>\n",
       "      <th>1</th>\n",
       "      <td>How do you view your DHCP option sets in Amazo...</td>\n",
       "      <td>In Amazon VPC, to view your DHCP option sets, ...</td>\n",
       "      <td>By default, you can view your DHCP option sets...</td>\n",
       "      <td>To view your DHCP option sets in Amazon VPC, y...</td>\n",
       "      <td>To view your DHCP option sets in Amazon VPC an...</td>\n",
       "    </tr>\n",
       "    <tr>\n",
       "      <th>2</th>\n",
       "      <td>What is a subnet CIDR reservation in Amazon VP...</td>\n",
       "      <td>A subnet CIDR reservation in Amazon Virtual Pr...</td>\n",
       "      <td>A subnet CIDR reservation in Amazon VPC is a r...</td>\n",
       "      <td>A subnet CIDR reservation is a range of IPv4 o...</td>\n",
       "      <td>A subnet CIDR reservation in Amazon VPC is a r...</td>\n",
       "    </tr>\n",
       "    <tr>\n",
       "      <th>3</th>\n",
       "      <td>How does the middlebox routing wizard facilita...</td>\n",
       "      <td>The middlebox routing wizard in Amazon VPC hel...</td>\n",
       "      <td>The middlebox routing wizard facilitates the i...</td>\n",
       "      <td>The middlebox routing wizard facilitates the i...</td>\n",
       "      <td>The middlebox routing wizard in Amazon VPC fac...</td>\n",
       "    </tr>\n",
       "    <tr>\n",
       "      <th>4</th>\n",
       "      <td>What are the benefits of monitoring Network Ad...</td>\n",
       "      <td>Monitoring Network Address Usage (NAU) within ...</td>\n",
       "      <td>What are the benefits of monitoring Network Ad...</td>\n",
       "      <td>The benefits of monitoring Network Address Usa...</td>\n",
       "      <td>Monitoring Network Address Usage (NAU) in an A...</td>\n",
       "    </tr>\n",
       "  </tbody>\n",
       "</table>\n",
       "</div>"
      ],
      "text/plain": [
       "                                            question  \\\n",
       "0  How can you migrate an IPv4-only Amazon VPC to...   \n",
       "1  How do you view your DHCP option sets in Amazo...   \n",
       "2  What is a subnet CIDR reservation in Amazon VP...   \n",
       "3  How does the middlebox routing wizard facilita...   \n",
       "4  What are the benefits of monitoring Network Ad...   \n",
       "\n",
       "                                              answer  \\\n",
       "0  To migrate an IPv4-only Amazon VPC to support ...   \n",
       "1  In Amazon VPC, to view your DHCP option sets, ...   \n",
       "2  A subnet CIDR reservation in Amazon Virtual Pr...   \n",
       "3  The middlebox routing wizard in Amazon VPC hel...   \n",
       "4  Monitoring Network Address Usage (NAU) within ...   \n",
       "\n",
       "                                          llm_answer  \\\n",
       "0  To migrate an IPv4-only Amazon Virtual Private...   \n",
       "1  By default, you can view your DHCP option sets...   \n",
       "2  A subnet CIDR reservation in Amazon VPC is a r...   \n",
       "3  The middlebox routing wizard facilitates the i...   \n",
       "4  What are the benefits of monitoring Network Ad...   \n",
       "\n",
       "                                      llm_rag_answer  \\\n",
       "0  To migrate an IPv4-only Amazon VPC to support ...   \n",
       "1  To view your DHCP option sets in Amazon VPC, y...   \n",
       "2  A subnet CIDR reservation is a range of IPv4 o...   \n",
       "3  The middlebox routing wizard facilitates the i...   \n",
       "4  The benefits of monitoring Network Address Usa...   \n",
       "\n",
       "                                          rag_answer  \n",
       "0  To migrate an IPv4-only Amazon VPC to support ...  \n",
       "1  To view your DHCP option sets in Amazon VPC an...  \n",
       "2  A subnet CIDR reservation in Amazon VPC is a r...  \n",
       "3  The middlebox routing wizard in Amazon VPC fac...  \n",
       "4  Monitoring Network Address Usage (NAU) in an A...  "
      ]
     },
     "execution_count": 15,
     "metadata": {},
     "output_type": "execute_result"
    }
   ],
   "source": [
    "import os\n",
    "import pandas as pd\n",
    "\n",
    "folder = os.listdir('data')\n",
    "files = [file for file in folder if file.endswith('.csv')]\n",
    "files = [file for file in files if not file.startswith('score_by')] # exclude the scoring files\n",
    "\n",
    "dataframes = []\n",
    "for file in files: \n",
    "    df = pd.read_csv(os.path.join('data', file))\n",
    "    dataframes.append(df.reset_index(drop=True)) # reset to avoid NaN when concatenating\n",
    "\n",
    "df = pd.concat(dataframes, axis=1)\n",
    "df = df.loc[:,~df.columns.duplicated()] # drop duplicated columns\n",
    "df.head()"
   ]
  },
  {
   "cell_type": "code",
   "execution_count": 16,
   "metadata": {},
   "outputs": [
    {
     "data": {
      "text/plain": [
       "['llm', 'llm_rag', 'rag']"
      ]
     },
     "execution_count": 16,
     "metadata": {},
     "output_type": "execute_result"
    }
   ],
   "source": [
    "# get the prefix of all column names ending with _answer\n",
    "suffix = '_answer'\n",
    "model_types = [col[:-len(suffix)] for col in df.columns if col.endswith(suffix)]\n",
    "model_types"
   ]
  },
  {
   "cell_type": "markdown",
   "metadata": {},
   "source": [
    "Scoring at the answer level"
   ]
  },
  {
   "cell_type": "code",
   "execution_count": 17,
   "metadata": {},
   "outputs": [],
   "source": [
    "for mt in model_types: \n",
    "    df[f'{mt}_bleu'] = df.apply(lambda row: score_with_bleu(row['answer'], row[f'{mt}_answer']), axis=1)\n",
    "    df[f'{mt}_rouge'] = df.apply(lambda row: score_with_rouge(row['answer'], row[f'{mt}_answer']), axis=1)\n",
    "    df[f'{mt}_bert'] = df.apply(lambda row: score_with_bert(row['answer'], row[f'{mt}_answer']), axis=1) # tuple of 3 lists, need to unpack\n",
    "    df[[f'{mt}_bert_precision', f'{mt}_bert_recall', f'{mt}_bert_f1']] = df[f'{mt}_bert'].apply(lambda x: pd.Series([i[0] for i in x]))\n",
    "    df.drop(columns=[f'{mt}_bert'], inplace=True)"
   ]
  },
  {
   "cell_type": "code",
   "execution_count": 18,
   "metadata": {},
   "outputs": [
    {
     "data": {
      "text/html": [
       "<div>\n",
       "<style scoped>\n",
       "    .dataframe tbody tr th:only-of-type {\n",
       "        vertical-align: middle;\n",
       "    }\n",
       "\n",
       "    .dataframe tbody tr th {\n",
       "        vertical-align: top;\n",
       "    }\n",
       "\n",
       "    .dataframe thead th {\n",
       "        text-align: right;\n",
       "    }\n",
       "</style>\n",
       "<table border=\"1\" class=\"dataframe\">\n",
       "  <thead>\n",
       "    <tr style=\"text-align: right;\">\n",
       "      <th></th>\n",
       "      <th>question</th>\n",
       "      <th>answer</th>\n",
       "      <th>llm_answer</th>\n",
       "      <th>llm_rag_answer</th>\n",
       "      <th>rag_answer</th>\n",
       "      <th>llm_bleu</th>\n",
       "      <th>llm_rouge</th>\n",
       "      <th>llm_bert_precision</th>\n",
       "      <th>llm_bert_recall</th>\n",
       "      <th>llm_bert_f1</th>\n",
       "      <th>llm_rag_bleu</th>\n",
       "      <th>llm_rag_rouge</th>\n",
       "      <th>llm_rag_bert_precision</th>\n",
       "      <th>llm_rag_bert_recall</th>\n",
       "      <th>llm_rag_bert_f1</th>\n",
       "      <th>rag_bleu</th>\n",
       "      <th>rag_rouge</th>\n",
       "      <th>rag_bert_precision</th>\n",
       "      <th>rag_bert_recall</th>\n",
       "      <th>rag_bert_f1</th>\n",
       "    </tr>\n",
       "  </thead>\n",
       "  <tbody>\n",
       "    <tr>\n",
       "      <th>0</th>\n",
       "      <td>How can you migrate an IPv4-only Amazon VPC to...</td>\n",
       "      <td>To migrate an IPv4-only Amazon VPC to support ...</td>\n",
       "      <td>To migrate an IPv4-only Amazon Virtual Private...</td>\n",
       "      <td>To migrate an IPv4-only Amazon VPC to support ...</td>\n",
       "      <td>To migrate an IPv4-only Amazon VPC to support ...</td>\n",
       "      <td>0.116771</td>\n",
       "      <td>0.290598</td>\n",
       "      <td>0.833697</td>\n",
       "      <td>0.864191</td>\n",
       "      <td>0.848670</td>\n",
       "      <td>0.063197</td>\n",
       "      <td>0.242171</td>\n",
       "      <td>0.870316</td>\n",
       "      <td>0.800967</td>\n",
       "      <td>0.834203</td>\n",
       "      <td>0.123887</td>\n",
       "      <td>0.288509</td>\n",
       "      <td>0.884932</td>\n",
       "      <td>0.841144</td>\n",
       "      <td>0.862482</td>\n",
       "    </tr>\n",
       "    <tr>\n",
       "      <th>1</th>\n",
       "      <td>How do you view your DHCP option sets in Amazo...</td>\n",
       "      <td>In Amazon VPC, to view your DHCP option sets, ...</td>\n",
       "      <td>By default, you can view your DHCP option sets...</td>\n",
       "      <td>To view your DHCP option sets in Amazon VPC, y...</td>\n",
       "      <td>To view your DHCP option sets in Amazon VPC an...</td>\n",
       "      <td>0.075391</td>\n",
       "      <td>0.240506</td>\n",
       "      <td>0.854906</td>\n",
       "      <td>0.802528</td>\n",
       "      <td>0.827889</td>\n",
       "      <td>0.023199</td>\n",
       "      <td>0.210101</td>\n",
       "      <td>0.853242</td>\n",
       "      <td>0.805927</td>\n",
       "      <td>0.828910</td>\n",
       "      <td>0.114963</td>\n",
       "      <td>0.257862</td>\n",
       "      <td>0.870800</td>\n",
       "      <td>0.796118</td>\n",
       "      <td>0.831786</td>\n",
       "    </tr>\n",
       "    <tr>\n",
       "      <th>2</th>\n",
       "      <td>What is a subnet CIDR reservation in Amazon VP...</td>\n",
       "      <td>A subnet CIDR reservation in Amazon Virtual Pr...</td>\n",
       "      <td>A subnet CIDR reservation in Amazon VPC is a r...</td>\n",
       "      <td>A subnet CIDR reservation is a range of IPv4 o...</td>\n",
       "      <td>A subnet CIDR reservation in Amazon VPC is a r...</td>\n",
       "      <td>0.085042</td>\n",
       "      <td>0.262626</td>\n",
       "      <td>0.794297</td>\n",
       "      <td>0.855345</td>\n",
       "      <td>0.823691</td>\n",
       "      <td>0.048054</td>\n",
       "      <td>0.240175</td>\n",
       "      <td>0.853718</td>\n",
       "      <td>0.765338</td>\n",
       "      <td>0.807116</td>\n",
       "      <td>0.114899</td>\n",
       "      <td>0.386792</td>\n",
       "      <td>0.894457</td>\n",
       "      <td>0.840036</td>\n",
       "      <td>0.866392</td>\n",
       "    </tr>\n",
       "    <tr>\n",
       "      <th>3</th>\n",
       "      <td>How does the middlebox routing wizard facilita...</td>\n",
       "      <td>The middlebox routing wizard in Amazon VPC hel...</td>\n",
       "      <td>The middlebox routing wizard facilitates the i...</td>\n",
       "      <td>The middlebox routing wizard facilitates the i...</td>\n",
       "      <td>The middlebox routing wizard in Amazon VPC fac...</td>\n",
       "      <td>0.110100</td>\n",
       "      <td>0.280822</td>\n",
       "      <td>0.839930</td>\n",
       "      <td>0.852829</td>\n",
       "      <td>0.846331</td>\n",
       "      <td>0.021987</td>\n",
       "      <td>0.223108</td>\n",
       "      <td>0.821621</td>\n",
       "      <td>0.793708</td>\n",
       "      <td>0.807423</td>\n",
       "      <td>0.072883</td>\n",
       "      <td>0.255319</td>\n",
       "      <td>0.830224</td>\n",
       "      <td>0.803943</td>\n",
       "      <td>0.816872</td>\n",
       "    </tr>\n",
       "    <tr>\n",
       "      <th>4</th>\n",
       "      <td>What are the benefits of monitoring Network Ad...</td>\n",
       "      <td>Monitoring Network Address Usage (NAU) within ...</td>\n",
       "      <td>What are the benefits of monitoring Network Ad...</td>\n",
       "      <td>The benefits of monitoring Network Address Usa...</td>\n",
       "      <td>Monitoring Network Address Usage (NAU) in an A...</td>\n",
       "      <td>0.042988</td>\n",
       "      <td>0.193732</td>\n",
       "      <td>0.830654</td>\n",
       "      <td>0.818970</td>\n",
       "      <td>0.824771</td>\n",
       "      <td>0.010818</td>\n",
       "      <td>0.151329</td>\n",
       "      <td>0.839106</td>\n",
       "      <td>0.776208</td>\n",
       "      <td>0.806432</td>\n",
       "      <td>0.041410</td>\n",
       "      <td>0.242075</td>\n",
       "      <td>0.852904</td>\n",
       "      <td>0.809101</td>\n",
       "      <td>0.830426</td>\n",
       "    </tr>\n",
       "  </tbody>\n",
       "</table>\n",
       "</div>"
      ],
      "text/plain": [
       "                                            question  \\\n",
       "0  How can you migrate an IPv4-only Amazon VPC to...   \n",
       "1  How do you view your DHCP option sets in Amazo...   \n",
       "2  What is a subnet CIDR reservation in Amazon VP...   \n",
       "3  How does the middlebox routing wizard facilita...   \n",
       "4  What are the benefits of monitoring Network Ad...   \n",
       "\n",
       "                                              answer  \\\n",
       "0  To migrate an IPv4-only Amazon VPC to support ...   \n",
       "1  In Amazon VPC, to view your DHCP option sets, ...   \n",
       "2  A subnet CIDR reservation in Amazon Virtual Pr...   \n",
       "3  The middlebox routing wizard in Amazon VPC hel...   \n",
       "4  Monitoring Network Address Usage (NAU) within ...   \n",
       "\n",
       "                                          llm_answer  \\\n",
       "0  To migrate an IPv4-only Amazon Virtual Private...   \n",
       "1  By default, you can view your DHCP option sets...   \n",
       "2  A subnet CIDR reservation in Amazon VPC is a r...   \n",
       "3  The middlebox routing wizard facilitates the i...   \n",
       "4  What are the benefits of monitoring Network Ad...   \n",
       "\n",
       "                                      llm_rag_answer  \\\n",
       "0  To migrate an IPv4-only Amazon VPC to support ...   \n",
       "1  To view your DHCP option sets in Amazon VPC, y...   \n",
       "2  A subnet CIDR reservation is a range of IPv4 o...   \n",
       "3  The middlebox routing wizard facilitates the i...   \n",
       "4  The benefits of monitoring Network Address Usa...   \n",
       "\n",
       "                                          rag_answer  llm_bleu  llm_rouge  \\\n",
       "0  To migrate an IPv4-only Amazon VPC to support ...  0.116771   0.290598   \n",
       "1  To view your DHCP option sets in Amazon VPC an...  0.075391   0.240506   \n",
       "2  A subnet CIDR reservation in Amazon VPC is a r...  0.085042   0.262626   \n",
       "3  The middlebox routing wizard in Amazon VPC fac...  0.110100   0.280822   \n",
       "4  Monitoring Network Address Usage (NAU) in an A...  0.042988   0.193732   \n",
       "\n",
       "   llm_bert_precision  llm_bert_recall  llm_bert_f1  llm_rag_bleu  \\\n",
       "0            0.833697         0.864191     0.848670      0.063197   \n",
       "1            0.854906         0.802528     0.827889      0.023199   \n",
       "2            0.794297         0.855345     0.823691      0.048054   \n",
       "3            0.839930         0.852829     0.846331      0.021987   \n",
       "4            0.830654         0.818970     0.824771      0.010818   \n",
       "\n",
       "   llm_rag_rouge  llm_rag_bert_precision  llm_rag_bert_recall  \\\n",
       "0       0.242171                0.870316             0.800967   \n",
       "1       0.210101                0.853242             0.805927   \n",
       "2       0.240175                0.853718             0.765338   \n",
       "3       0.223108                0.821621             0.793708   \n",
       "4       0.151329                0.839106             0.776208   \n",
       "\n",
       "   llm_rag_bert_f1  rag_bleu  rag_rouge  rag_bert_precision  rag_bert_recall  \\\n",
       "0         0.834203  0.123887   0.288509            0.884932         0.841144   \n",
       "1         0.828910  0.114963   0.257862            0.870800         0.796118   \n",
       "2         0.807116  0.114899   0.386792            0.894457         0.840036   \n",
       "3         0.807423  0.072883   0.255319            0.830224         0.803943   \n",
       "4         0.806432  0.041410   0.242075            0.852904         0.809101   \n",
       "\n",
       "   rag_bert_f1  \n",
       "0     0.862482  \n",
       "1     0.831786  \n",
       "2     0.866392  \n",
       "3     0.816872  \n",
       "4     0.830426  "
      ]
     },
     "execution_count": 18,
     "metadata": {},
     "output_type": "execute_result"
    }
   ],
   "source": [
    "df.head()"
   ]
  },
  {
   "cell_type": "code",
   "execution_count": 19,
   "metadata": {},
   "outputs": [],
   "source": [
    "# output to csv\n",
    "df_clean = df.copy()\n",
    "# update column header: replace all llm with lora\n",
    "df_clean.columns = df_clean.columns.str.replace('llm', 'lora')\n",
    "df_clean.to_csv('data/score_by_answer.csv', index=False)"
   ]
  },
  {
   "cell_type": "code",
   "execution_count": 23,
   "metadata": {},
   "outputs": [
    {
     "data": {
      "text/plain": [
       "lora_bleu        0.068193\n",
       "lora_rag_bleu    0.035919\n",
       "rag_bleu         0.128937\n",
       "dtype: float64"
      ]
     },
     "execution_count": 23,
     "metadata": {},
     "output_type": "execute_result"
    }
   ],
   "source": [
    "# # get the mean bleu score - not quite the aggregated bleu, but it's the same order and magnitude\n",
    "# df_clean[[col for col in df_clean.columns if col.endswith('bleu')]].mean(axis=0)"
   ]
  },
  {
   "cell_type": "code",
   "execution_count": 22,
   "metadata": {},
   "outputs": [
    {
     "data": {
      "text/plain": [
       "lora_rouge        0.228489\n",
       "lora_rag_rouge    0.209635\n",
       "rag_rouge         0.319392\n",
       "dtype: float64"
      ]
     },
     "execution_count": 22,
     "metadata": {},
     "output_type": "execute_result"
    }
   ],
   "source": [
    "# # get the mean rouge score - and we can see it's simple mean\n",
    "# df_clean[[col for col in df_clean.columns if col.endswith('rouge')]].mean(axis=0)"
   ]
  },
  {
   "cell_type": "markdown",
   "metadata": {},
   "source": [
    "Scoring at the model level"
   ]
  },
  {
   "cell_type": "code",
   "execution_count": 57,
   "metadata": {},
   "outputs": [],
   "source": [
    "score_list = []\n",
    "\n",
    "references = df['answer'].tolist()\n",
    "references_for_bleu = [[r] for r in references]\n",
    "\n",
    "for mt in model_types:\n",
    "    \n",
    "    predictions = df[f'{mt}_answer'].tolist()\n",
    "    \n",
    "    # BLUE and ROUGE scores\n",
    "    bleu_score = score_with_bleu(predictions, references_for_bleu)\n",
    "    rouge_score = score_with_rouge(predictions, references)\n",
    "    \n",
    "    # BERT scores\n",
    "    bert_precision_column = f'{mt}_bert_precision'\n",
    "    bert_precision = df[bert_precision_column].mean()\n",
    "    bert_recall_column = f'{mt}_bert_recall'\n",
    "    bert_recall = df[bert_recall_column].mean()\n",
    "    bert_f1_column = f'{mt}_bert_f1'\n",
    "    bert_f1 = df[bert_f1_column].mean()\n",
    "    \n",
    "    # Append rows to the list as dictionaries\n",
    "    score_list.append({'model_type': mt, 'metric': 'bleu', 'score': bleu_score})\n",
    "    score_list.append({'model_type': mt, 'metric': 'rouge', 'score': rouge_score})\n",
    "    score_list.append({'model_type': mt, 'metric': 'bert_precision', 'score': bert_precision})\n",
    "    score_list.append({'model_type': mt, 'metric': 'bert_recall', 'score': bert_recall})\n",
    "    score_list.append({'model_type': mt, 'metric': 'bert_f1', 'score': bert_f1})\n",
    "\n",
    "# Convert the list of dictionaries into a DataFrame\n",
    "score_df = pd.DataFrame(score_list)"
   ]
  },
  {
   "cell_type": "code",
   "execution_count": 58,
   "metadata": {},
   "outputs": [
    {
     "data": {
      "text/html": [
       "<div>\n",
       "<style scoped>\n",
       "    .dataframe tbody tr th:only-of-type {\n",
       "        vertical-align: middle;\n",
       "    }\n",
       "\n",
       "    .dataframe tbody tr th {\n",
       "        vertical-align: top;\n",
       "    }\n",
       "\n",
       "    .dataframe thead th {\n",
       "        text-align: right;\n",
       "    }\n",
       "</style>\n",
       "<table border=\"1\" class=\"dataframe\">\n",
       "  <thead>\n",
       "    <tr style=\"text-align: right;\">\n",
       "      <th>metric</th>\n",
       "      <th>bert_f1</th>\n",
       "      <th>bert_precision</th>\n",
       "      <th>bert_recall</th>\n",
       "      <th>bleu</th>\n",
       "      <th>rouge</th>\n",
       "    </tr>\n",
       "    <tr>\n",
       "      <th>model_type</th>\n",
       "      <th></th>\n",
       "      <th></th>\n",
       "      <th></th>\n",
       "      <th></th>\n",
       "      <th></th>\n",
       "    </tr>\n",
       "  </thead>\n",
       "  <tbody>\n",
       "    <tr>\n",
       "      <th>rag</th>\n",
       "      <td>0.839283</td>\n",
       "      <td>0.850029</td>\n",
       "      <td>0.829704</td>\n",
       "      <td>0.131537</td>\n",
       "      <td>0.319369</td>\n",
       "    </tr>\n",
       "    <tr>\n",
       "      <th>lora</th>\n",
       "      <td>0.815689</td>\n",
       "      <td>0.807801</td>\n",
       "      <td>0.826171</td>\n",
       "      <td>0.097033</td>\n",
       "      <td>0.228654</td>\n",
       "    </tr>\n",
       "    <tr>\n",
       "      <th>rag_lora</th>\n",
       "      <td>0.803309</td>\n",
       "      <td>0.834183</td>\n",
       "      <td>0.776578</td>\n",
       "      <td>0.073872</td>\n",
       "      <td>0.209593</td>\n",
       "    </tr>\n",
       "  </tbody>\n",
       "</table>\n",
       "</div>"
      ],
      "text/plain": [
       "metric       bert_f1  bert_precision  bert_recall      bleu     rouge\n",
       "model_type                                                           \n",
       "rag         0.839283        0.850029     0.829704  0.131537  0.319369\n",
       "lora        0.815689        0.807801     0.826171  0.097033  0.228654\n",
       "rag_lora    0.803309        0.834183     0.776578  0.073872  0.209593"
      ]
     },
     "execution_count": 58,
     "metadata": {},
     "output_type": "execute_result"
    }
   ],
   "source": [
    "# sort model type by: rag, lora, rag_lora\n",
    "score_df = score_df.pivot(index='model_type', columns='metric', values='score')\n",
    "score_df.index = score_df.index.map({'llm': 'lora', 'llm_rag': 'rag_lora', 'rag': 'rag'})\n",
    "score_df = score_df.reindex(['rag', 'lora', 'rag_lora'])\n",
    "score_df"
   ]
  },
  {
   "cell_type": "code",
   "execution_count": 59,
   "metadata": {},
   "outputs": [
    {
     "data": {
      "text/html": [
       "<style type=\"text/css\">\n",
       "#T_785b4_row0_col0, #T_785b4_row0_col1, #T_785b4_row0_col2, #T_785b4_row0_col3, #T_785b4_row0_col4 {\n",
       "  background-color: yellow;\n",
       "}\n",
       "</style>\n",
       "<table id=\"T_785b4\">\n",
       "  <thead>\n",
       "    <tr>\n",
       "      <th class=\"index_name level0\" >metric</th>\n",
       "      <th id=\"T_785b4_level0_col0\" class=\"col_heading level0 col0\" >bert_f1</th>\n",
       "      <th id=\"T_785b4_level0_col1\" class=\"col_heading level0 col1\" >bert_precision</th>\n",
       "      <th id=\"T_785b4_level0_col2\" class=\"col_heading level0 col2\" >bert_recall</th>\n",
       "      <th id=\"T_785b4_level0_col3\" class=\"col_heading level0 col3\" >bleu</th>\n",
       "      <th id=\"T_785b4_level0_col4\" class=\"col_heading level0 col4\" >rouge</th>\n",
       "    </tr>\n",
       "    <tr>\n",
       "      <th class=\"index_name level0\" >model_type</th>\n",
       "      <th class=\"blank col0\" >&nbsp;</th>\n",
       "      <th class=\"blank col1\" >&nbsp;</th>\n",
       "      <th class=\"blank col2\" >&nbsp;</th>\n",
       "      <th class=\"blank col3\" >&nbsp;</th>\n",
       "      <th class=\"blank col4\" >&nbsp;</th>\n",
       "    </tr>\n",
       "  </thead>\n",
       "  <tbody>\n",
       "    <tr>\n",
       "      <th id=\"T_785b4_level0_row0\" class=\"row_heading level0 row0\" >rag</th>\n",
       "      <td id=\"T_785b4_row0_col0\" class=\"data row0 col0\" >0.839283</td>\n",
       "      <td id=\"T_785b4_row0_col1\" class=\"data row0 col1\" >0.850029</td>\n",
       "      <td id=\"T_785b4_row0_col2\" class=\"data row0 col2\" >0.829704</td>\n",
       "      <td id=\"T_785b4_row0_col3\" class=\"data row0 col3\" >0.131537</td>\n",
       "      <td id=\"T_785b4_row0_col4\" class=\"data row0 col4\" >0.319369</td>\n",
       "    </tr>\n",
       "    <tr>\n",
       "      <th id=\"T_785b4_level0_row1\" class=\"row_heading level0 row1\" >lora</th>\n",
       "      <td id=\"T_785b4_row1_col0\" class=\"data row1 col0\" >0.815689</td>\n",
       "      <td id=\"T_785b4_row1_col1\" class=\"data row1 col1\" >0.807801</td>\n",
       "      <td id=\"T_785b4_row1_col2\" class=\"data row1 col2\" >0.826171</td>\n",
       "      <td id=\"T_785b4_row1_col3\" class=\"data row1 col3\" >0.097033</td>\n",
       "      <td id=\"T_785b4_row1_col4\" class=\"data row1 col4\" >0.228654</td>\n",
       "    </tr>\n",
       "    <tr>\n",
       "      <th id=\"T_785b4_level0_row2\" class=\"row_heading level0 row2\" >rag_lora</th>\n",
       "      <td id=\"T_785b4_row2_col0\" class=\"data row2 col0\" >0.803309</td>\n",
       "      <td id=\"T_785b4_row2_col1\" class=\"data row2 col1\" >0.834183</td>\n",
       "      <td id=\"T_785b4_row2_col2\" class=\"data row2 col2\" >0.776578</td>\n",
       "      <td id=\"T_785b4_row2_col3\" class=\"data row2 col3\" >0.073872</td>\n",
       "      <td id=\"T_785b4_row2_col4\" class=\"data row2 col4\" >0.209593</td>\n",
       "    </tr>\n",
       "  </tbody>\n",
       "</table>\n"
      ],
      "text/plain": [
       "<pandas.io.formats.style.Styler at 0x7fa9db46bd90>"
      ]
     },
     "execution_count": 59,
     "metadata": {},
     "output_type": "execute_result"
    }
   ],
   "source": [
    "# highlight the highest number in each column of score_df\n",
    "def highlight_max(s):\n",
    "    '''highlight the maximum in a Series yellow.'''\n",
    "    is_max = s == s.max()\n",
    "    return ['background-color: yellow' if v else '' for v in is_max]\n",
    "\n",
    "score_df.style.apply(highlight_max, axis=0)"
   ]
  },
  {
   "cell_type": "code",
   "execution_count": 60,
   "metadata": {},
   "outputs": [],
   "source": [
    "# output to csv\n",
    "score_df.to_csv('data/score_by_model.csv', index=False)"
   ]
  }
 ],
 "metadata": {
  "kernelspec": {
   "display_name": ".venv",
   "language": "python",
   "name": "python3"
  },
  "language_info": {
   "codemirror_mode": {
    "name": "ipython",
    "version": 3
   },
   "file_extension": ".py",
   "mimetype": "text/x-python",
   "name": "python",
   "nbconvert_exporter": "python",
   "pygments_lexer": "ipython3",
   "version": "3.10.7"
  }
 },
 "nbformat": 4,
 "nbformat_minor": 2
}
