{
 "cells": [
  {
   "cell_type": "markdown",
   "metadata": {},
   "source": [
    "## Link classification script\n",
    "\n",
    "This Python script is designed to classify a list of AWS VPC documentation links into two categories: 'text-based' documentation and 'API' documentation. It uses a heuristic approach based on URL patterns and descriptions to categorize each link."
   ]
  },
  {
   "cell_type": "code",
   "execution_count": 4,
   "metadata": {},
   "outputs": [
    {
     "name": "stdout",
     "output_type": "stream",
     "text": [
      "Classified links saved to: ../06_Data/Capstone_Data/Classified_VPC_Links.csv\n"
     ]
    }
   ],
   "source": [
    "import pandas as pd\n",
    "\n",
    "def classify_link(row):\n",
    "    if 'APIReference' in row['LINK'] or 'API' in row['DESC']:\n",
    "        return 'API'\n",
    "    else:\n",
    "        return 'text-based'\n",
    "\n",
    "def classify_vpc_links(file_path, output_path):\n",
    "    # Load the dataset\n",
    "    links_df = pd.read_csv(file_path)\n",
    "\n",
    "    # Apply classification\n",
    "    links_df['Type'] = links_df.apply(classify_link, axis=1)\n",
    "\n",
    "    # Save the updated dataset\n",
    "    links_df.to_csv(output_path, index=False)\n",
    "    print(f\"Classified links saved to: {output_path}\")\n",
    "\n",
    "# Usage\n",
    "input_file_path = '../06_Data/Capstone_Data/VPC Links List - Sheet1.csv'\n",
    "output_file_path = '../06_Data/Capstone_Data/Classified_VPC_Links.csv'\n",
    "\n",
    "classify_vpc_links(input_file_path, output_file_path)"
   ]
  }
 ],
 "metadata": {
  "kernelspec": {
   "display_name": ".venv",
   "language": "python",
   "name": "python3"
  },
  "language_info": {
   "codemirror_mode": {
    "name": "ipython",
    "version": 3
   },
   "file_extension": ".py",
   "mimetype": "text/x-python",
   "name": "python",
   "nbconvert_exporter": "python",
   "pygments_lexer": "ipython3",
   "version": "3.10.7"
  }
 },
 "nbformat": 4,
 "nbformat_minor": 2
}
