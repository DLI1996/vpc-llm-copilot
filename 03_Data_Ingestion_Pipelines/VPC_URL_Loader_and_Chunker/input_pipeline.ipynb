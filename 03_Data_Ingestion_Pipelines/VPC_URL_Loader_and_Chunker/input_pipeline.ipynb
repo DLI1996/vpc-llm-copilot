{
 "cells": [
  {
   "cell_type": "code",
   "execution_count": 20,
   "metadata": {},
   "outputs": [
    {
     "data": {
      "application/vnd.jupyter.widget-view+json": {
       "model_id": "5fc47eb59d204290b45d7555b8e15c1d",
       "version_major": 2,
       "version_minor": 0
      },
      "text/plain": [
       "  0%|          | 0/5 [00:00<?, ?it/s]"
      ]
     },
     "metadata": {},
     "output_type": "display_data"
    },
    {
     "name": "stdout",
     "output_type": "stream",
     "text": [
      "Iteration: 0\n",
      "Iteration: 1\n",
      "Iteration: 2\n",
      "Iteration: 3\n",
      "Iteration: 4\n"
     ]
    }
   ],
   "source": [
    "# from tqdm.notebook import tqdm\n",
    "# import time\n",
    "\n",
    "# for i in tqdm(range(5)):\n",
    "#     time.sleep(2)\n",
    "#     print('Iteration:', i)"
   ]
  },
  {
   "cell_type": "markdown",
   "metadata": {},
   "source": [
    "Data Pipeline includes:\n",
    "- modify the pipeline to segment data by concepts\n",
    "    - summary of the parent link\n",
    "    - 1000/2000 tokens max for each vector\n",
    "    - whole document broken down into chunks of txt\n",
    "    - metadata: parent link, parent file name, children chunks file names\n",
    "    - folder on text analytics\n",
    "- parse the entirety of spreadsheet (ask for a folder on Deep Dish server)\n",
    "- allow user input to add more link to do"
   ]
  },
  {
   "cell_type": "markdown",
   "metadata": {},
   "source": [
    "### Setup"
   ]
  },
  {
   "cell_type": "markdown",
   "metadata": {},
   "source": [
    "#### Interpreter"
   ]
  },
  {
   "cell_type": "code",
   "execution_count": 1,
   "metadata": {},
   "outputs": [
    {
     "data": {
      "text/plain": [
       "'/root/MLDS/LLM-Product-Assistant/.venv/bin/python'"
      ]
     },
     "execution_count": 1,
     "metadata": {},
     "output_type": "execute_result"
    }
   ],
   "source": [
    "# checking interpreter path\n",
    "import sys\n",
    "sys.executable"
   ]
  },
  {
   "cell_type": "markdown",
   "metadata": {},
   "source": [
    "#### LLM keys and initialization"
   ]
  },
  {
   "cell_type": "code",
   "execution_count": 2,
   "metadata": {},
   "outputs": [],
   "source": [
    "from dotenv import load_dotenv\n",
    "import os"
   ]
  },
  {
   "cell_type": "code",
   "execution_count": 3,
   "metadata": {},
   "outputs": [],
   "source": [
    "%reload_ext dotenv\n",
    "%dotenv\n",
    "chatGPT_api_key = os.getenv(\"OPENAI_API_KEY\")\n",
    "# chatGPT_api_key"
   ]
  },
  {
   "cell_type": "code",
   "execution_count": 4,
   "metadata": {},
   "outputs": [],
   "source": [
    "# Define LLM\n",
    "from langchain.chat_models import ChatOpenAI\n",
    "llm = ChatOpenAI(temperature=0, model_name=\"gpt-3.5-turbo-16k\", openai_api_key= chatGPT_api_key)"
   ]
  },
  {
   "cell_type": "code",
   "execution_count": 5,
   "metadata": {},
   "outputs": [],
   "source": [
    "MAX_TOKEN = 16385 # max token length for OpenAI gpt-3.5-turbo-16k"
   ]
  },
  {
   "cell_type": "markdown",
   "metadata": {},
   "source": [
    "#### Imports"
   ]
  },
  {
   "cell_type": "code",
   "execution_count": 6,
   "metadata": {},
   "outputs": [],
   "source": [
    "import pandas as pd\n",
    "import re\n",
    "import yaml\n",
    "from tqdm.notebook import tqdm\n",
    "\n",
    "from langchain.document_loaders import UnstructuredURLLoader\n",
    "from langchain.prompts import PromptTemplate\n",
    "from langchain.llms import OpenAI\n",
    "from langchain.chains import LLMChain\n",
    "from langchain.chains import ReduceDocumentsChain, MapReduceDocumentsChain, StuffDocumentsChain\n",
    "from langchain.text_splitter import RecursiveCharacterTextSplitter"
   ]
  },
  {
   "cell_type": "markdown",
   "metadata": {},
   "source": [
    "#### Data"
   ]
  },
  {
   "cell_type": "code",
   "execution_count": 7,
   "metadata": {},
   "outputs": [
    {
     "data": {
      "text/html": [
       "<div>\n",
       "<style scoped>\n",
       "    .dataframe tbody tr th:only-of-type {\n",
       "        vertical-align: middle;\n",
       "    }\n",
       "\n",
       "    .dataframe tbody tr th {\n",
       "        vertical-align: top;\n",
       "    }\n",
       "\n",
       "    .dataframe thead th {\n",
       "        text-align: right;\n",
       "    }\n",
       "</style>\n",
       "<table border=\"1\" class=\"dataframe\">\n",
       "  <thead>\n",
       "    <tr style=\"text-align: right;\">\n",
       "      <th></th>\n",
       "      <th>DESC</th>\n",
       "      <th>LINK</th>\n",
       "    </tr>\n",
       "  </thead>\n",
       "  <tbody>\n",
       "    <tr>\n",
       "      <th>0</th>\n",
       "      <td>vpc-lattice vpc-lattice</td>\n",
       "      <td>https://docs.aws.amazon.com/cli/latest/referen...</td>\n",
       "    </tr>\n",
       "    <tr>\n",
       "      <th>1</th>\n",
       "      <td>vpc-lattice APIReference Welcome</td>\n",
       "      <td>https://docs.aws.amazon.com/vpc-lattice/latest...</td>\n",
       "    </tr>\n",
       "    <tr>\n",
       "      <th>2</th>\n",
       "      <td>APIReference API_Operations</td>\n",
       "      <td>https://docs.aws.amazon.com/vpc-lattice/latest...</td>\n",
       "    </tr>\n",
       "    <tr>\n",
       "      <th>3</th>\n",
       "      <td>APIReference API_BatchUpdateRule</td>\n",
       "      <td>https://docs.aws.amazon.com/vpc-lattice/latest...</td>\n",
       "    </tr>\n",
       "    <tr>\n",
       "      <th>4</th>\n",
       "      <td>APIReference API_CreateAccessLogSubscription</td>\n",
       "      <td>https://docs.aws.amazon.com/vpc-lattice/latest...</td>\n",
       "    </tr>\n",
       "  </tbody>\n",
       "</table>\n",
       "</div>"
      ],
      "text/plain": [
       "                                            DESC  \\\n",
       "0                       vpc-lattice vpc-lattice    \n",
       "1               vpc-lattice APIReference Welcome   \n",
       "2                    APIReference API_Operations   \n",
       "3               APIReference API_BatchUpdateRule   \n",
       "4   APIReference API_CreateAccessLogSubscription   \n",
       "\n",
       "                                                LINK  \n",
       "0  https://docs.aws.amazon.com/cli/latest/referen...  \n",
       "1  https://docs.aws.amazon.com/vpc-lattice/latest...  \n",
       "2  https://docs.aws.amazon.com/vpc-lattice/latest...  \n",
       "3  https://docs.aws.amazon.com/vpc-lattice/latest...  \n",
       "4  https://docs.aws.amazon.com/vpc-lattice/latest...  "
      ]
     },
     "execution_count": 7,
     "metadata": {},
     "output_type": "execute_result"
    }
   ],
   "source": [
    "#read the file\n",
    "file_path = r'data/VPC Links List - Sheet1.csv'\n",
    "df = pd.read_csv(file_path)\n",
    "sample = df.head()\n",
    "sample"
   ]
  },
  {
   "cell_type": "code",
   "execution_count": 8,
   "metadata": {},
   "outputs": [
    {
     "data": {
      "text/plain": [
       "['https://docs.aws.amazon.com/cli/latest/reference/vpc-lattice/',\n",
       " 'https://docs.aws.amazon.com/vpc-lattice/latest/APIReference/Welcome.html',\n",
       " 'https://docs.aws.amazon.com/vpc-lattice/latest/APIReference/API_Operations.html',\n",
       " 'https://docs.aws.amazon.com/vpc-lattice/latest/APIReference/API_BatchUpdateRule.html',\n",
       " 'https://docs.aws.amazon.com/vpc-lattice/latest/APIReference/API_CreateAccessLogSubscription.html']"
      ]
     },
     "execution_count": 8,
     "metadata": {},
     "output_type": "execute_result"
    }
   ],
   "source": [
    "sample_data = sample.set_index('DESC')['LINK'].to_dict()\n",
    "URLs = list(sample_data.values())\n",
    "URLs"
   ]
  },
  {
   "cell_type": "markdown",
   "metadata": {},
   "source": [
    "### URL loader\n",
    "\n",
    "For testing, we will first try AWS PrivateLink - LangChain allows us to pass a list of URLs for parsing, so we will start with **concept** and **getting started**. Here we are using `UnstructuredURLLoader`, the other two [options](https://python.langchain.com/docs/integrations/document_loaders/url) are `SeleniumURLLoader` and `PlaywrightURLLoader`. "
   ]
  },
  {
   "cell_type": "code",
   "execution_count": 9,
   "metadata": {},
   "outputs": [
    {
     "name": "stderr",
     "output_type": "stream",
     "text": [
      "100%|██████████| 5/5 [00:02<00:00,  1.93it/s]\n"
     ]
    }
   ],
   "source": [
    "loader = UnstructuredURLLoader(urls=URLs, mode='single', show_progress_bar=True)\n",
    "data = loader.load()"
   ]
  },
  {
   "cell_type": "code",
   "execution_count": 10,
   "metadata": {},
   "outputs": [
    {
     "data": {
      "text/plain": [
       "5"
      ]
     },
     "execution_count": 10,
     "metadata": {},
     "output_type": "execute_result"
    }
   ],
   "source": [
    "len(data)"
   ]
  },
  {
   "cell_type": "code",
   "execution_count": 11,
   "metadata": {},
   "outputs": [
    {
     "data": {
      "text/plain": [
       "'AWS CLI Command Reference\\n\\nHome\\n\\nUser Guide\\n\\nForum\\n\\nGitHub\\n\\nNavigation\\n\\nindex\\n\\nnext |\\n\\nprevious |\\n\\nAWS CLI 1.29.71 Command Reference »\\n\\naws »\\n\\n← update-watchlist\\n          /\\n\\nbatch-update-rule →\\n\\nTable Of Contents\\n\\nvpc-lattice\\nDescription\\nAvailable Commands\\n\\nQuick search\\n\\nFeedback\\n\\nDid you find this page useful? Do you have a suggestion to improve the documentation?\\n\\nGive us feedback.\\n\\nIf you would like to suggest an improvement or fix for the AWS CLI, check out our\\n\\ncontributing guide on GitHub.\\n\\nUser Guide\\n\\nFirst time using the AWS CLI? See the\\n  User Guide for\\n  help getting started.\\n\\nNote:\\n                        You are viewing the documentation for an older major version of the AWS CLI (version 1).\\n\\nAWS CLI version 2, the latest major version of AWS CLI, is now stable and recommended for general use.\\n                        \\n                            To view this page for the AWS CLI version 2, click\\n                            here.\\n                        \\n                        For more information see the AWS CLI version 2\\n                        installation instructions\\n                        and\\n                        migration guide.\\n\\n[ aws ]\\n\\nvpc-lattice¶\\n\\nDescription¶\\n\\nAmazon VPC Lattice is a fully managed application networking service that you use to connect, secure, and monitor all of your services across multiple accounts and virtual private clouds (VPCs). Amazon VPC Lattice interconnects your microservices and legacy services within a logical boundary, so that you can discover and manage them more efficiently. For more information, see the Amazon VPC Lattice User Guide\\n\\nAvailable Commands¶\\n\\nbatch-update-rule\\n\\ncreate-access-log-subscription\\n\\ncreate-listener\\n\\ncreate-rule\\n\\ncreate-service\\n\\ncreate-service-network\\n\\ncreate-service-network-service-association\\n\\ncreate-service-network-vpc-association\\n\\ncreate-target-group\\n\\ndelete-access-log-subscription\\n\\ndelete-auth-policy\\n\\ndelete-listener\\n\\ndelete-resource-policy\\n\\ndelete-rule\\n\\ndelete-service\\n\\ndelete-service-network\\n\\ndelete-service-network-service-association\\n\\ndelete-service-network-vpc-association\\n\\ndelete-target-group\\n\\nderegister-targets\\n\\nget-access-log-subscription\\n\\nget-auth-policy\\n\\nget-listener\\n\\nget-resource-policy\\n\\nget-rule\\n\\nget-service\\n\\nget-service-network\\n\\nget-service-network-service-association\\n\\nget-service-network-vpc-association\\n\\nget-target-group\\n\\nlist-access-log-subscriptions\\n\\nlist-listeners\\n\\nlist-rules\\n\\nlist-service-network-service-associations\\n\\nlist-service-network-vpc-associations\\n\\nlist-service-networks\\n\\nlist-services\\n\\nlist-tags-for-resource\\n\\nlist-target-groups\\n\\nlist-targets\\n\\nput-auth-policy\\n\\nput-resource-policy\\n\\nregister-targets\\n\\ntag-resource\\n\\nuntag-resource\\n\\nupdate-access-log-subscription\\n\\nupdate-listener\\n\\nupdate-rule\\n\\nupdate-service\\n\\nupdate-service-network\\n\\nupdate-service-network-vpc-association\\n\\nupdate-target-group\\n\\n← update-watchlist\\n          /\\n\\nbatch-update-rule →\\n\\nNavigation\\n\\nindex\\n\\nnext |\\n\\nprevious |\\n\\nAWS CLI 1.29.71 Command Reference »\\n\\naws »'"
      ]
     },
     "execution_count": 11,
     "metadata": {},
     "output_type": "execute_result"
    }
   ],
   "source": [
    "data[0].page_content"
   ]
  },
  {
   "cell_type": "code",
   "execution_count": 12,
   "metadata": {},
   "outputs": [
    {
     "data": {
      "text/plain": [
       "'https://docs.aws.amazon.com/cli/latest/reference/vpc-lattice/'"
      ]
     },
     "execution_count": 12,
     "metadata": {},
     "output_type": "execute_result"
    }
   ],
   "source": [
    "data[0].metadata['source']"
   ]
  },
  {
   "cell_type": "code",
   "execution_count": 13,
   "metadata": {},
   "outputs": [],
   "source": [
    "single_doc = [data[0]]"
   ]
  },
  {
   "cell_type": "markdown",
   "metadata": {},
   "source": [
    "### Summarize\n",
    "\n",
    "Here, we are summarizing using the stuff chain - it takes a list of document (here, it's a single document in the list), and then summarize using the prompt provided"
   ]
  },
  {
   "cell_type": "code",
   "execution_count": 14,
   "metadata": {},
   "outputs": [
    {
     "data": {
      "text/plain": [
       "'The AWS CLI Command Reference provides information on the vpc-lattice command, which is used for managing Amazon VPC Lattice, a fully managed application networking service. The reference includes a list of available commands for managing various aspects of VPC Lattice, such as creating and deleting resources, getting information, and updating configurations. It also provides links to the User Guide and other resources for further assistance.'"
      ]
     },
     "execution_count": 14,
     "metadata": {},
     "output_type": "execute_result"
    }
   ],
   "source": [
    "# stuff\n",
    "SUMMARIZE_PROMPT = \"\"\"Write a concise summary of the following:\n",
    "\"{text}\"\n",
    "\"\"\"\n",
    "def summarize_with_stuff(data, llm, summarize_prompt):\n",
    "    \"\"\"summarize one document with stuff chain\"\"\"\n",
    "    prompt = PromptTemplate.from_template(SUMMARIZE_PROMPT)\n",
    "    llm_chain = LLMChain(llm=llm, prompt=prompt)\n",
    "    stuff_chain = StuffDocumentsChain(\n",
    "        llm_chain=llm_chain, document_variable_name=\"text\"\n",
    "    )\n",
    "    return stuff_chain.run(data)\n",
    "\n",
    "summarize_with_stuff(single_doc, llm, summarize_prompt=SUMMARIZE_PROMPT)"
   ]
  },
  {
   "cell_type": "markdown",
   "metadata": {},
   "source": [
    "### Chunking\n",
    "\n"
   ]
  },
  {
   "cell_type": "code",
   "execution_count": 15,
   "metadata": {},
   "outputs": [
    {
     "data": {
      "text/plain": [
       "['AWS CLI Command ReferenceHomeUser GuideForumGitHubNavigationindexnext |previous |AWS CLI 1.29.71 Command Reference »aws »← update-watchlist /batch-update-rule →Table Of Contentsvpc-latticeDescriptionAvailable CommandsQuick searchFeedbackDid you find this page useful? Do you have a suggestion to improve the documentation?Give us feedback.If you would like to suggest an improvement or fix for the AWS CLI, check out ourcontributing guide on GitHub.User GuideFirst time using the AWS CLI? See the User Guide for help getting started.Note: You are viewing the documentation for an older major version of the AWS CLI (version 1).',\n",
       " 'AWS CLI version 2, the latest major version of AWS CLI, is now stable and recommended for general use. To view this page for the AWS CLI version 2, click here. For more information see the AWS CLI version 2 installation instructions and migration guide.[ aws ]vpc-lattice Description Amazon VPC Lattice is a fully managed application networking service that you use to connect, secure, and monitor all of your services across multiple accounts and virtual private clouds (VPCs). Amazon VPC Lattice interconnects your microservices and legacy services within a logical boundary, so that you can discover and manage them more efficiently. For more information, see the Amazon VPC Lattice User GuideAvailable Commands batch-update-rulecreate-access-log-subscriptioncreate-listener',\n",
       " 'create-rulecreate-servicecreate-service-networkcreate-service-network-service-associationcreate-service-network-vpc-associationcreate-target-groupdelete-access-log-subscriptiondelete-auth-policydelete-listenerdelete-resource-policydelete-ruledelete-servicedelete-service-networkdelete-service-network-service-associationdelete-service-network-vpc-associationdelete-target-groupderegister-targetsget-access-log-subscriptionget-auth-policyget-listenerget-resource-policyget-ruleget-serviceget-service-networkget-service-network-service-associationget-service-network-vpc-associationget-target-grouplist-access-log-subscriptionslist-listenerslist-ruleslist-service-network-service-associationslist-service-network-vpc-associationslist-service-networkslist-serviceslist-tags-for-resourcelist-target-groupslist-targetsput-auth-policyput-resource-policyregister-targetstag-resourceuntag-resource',\n",
       " 'update-access-log-subscriptionupdate-listenerupdate-ruleupdate-serviceupdate-service-networkupdate-service-network-vpc-associationupdate-target-group← update-watchlist /batch-update-rule →Navigationindexnext |previous |AWS CLI 1.29.71 Command Reference »aws »']"
      ]
     },
     "execution_count": 15,
     "metadata": {},
     "output_type": "execute_result"
    }
   ],
   "source": [
    "\n",
    "text_splitter = RecursiveCharacterTextSplitter(\n",
    "    chunk_size=1000, \n",
    "    chunk_overlap=0, \n",
    "    # separators=[\"\\n\", \"\\n\\n\", \"|\", \"||\", \"\\n|\"],\n",
    "    length_function=len, \n",
    "    is_separator_regex=True,\n",
    "    keep_separator=False\n",
    ")\n",
    "\n",
    "def process_text(chunked_text):\n",
    "    # Replace '/n' with '\\nb', remove newline characters, replace '¶' with '', and replace multiple spaces with a single space\n",
    "    processed_text = [re.sub(r'/n', '\\\\nb', text) for text in chunked_text]\n",
    "    processed_text = [re.sub(r'[\\n\\r]', '', text) for text in processed_text]\n",
    "    processed_text = [re.sub(r'¶', ' ', text) for text in processed_text]\n",
    "    processed_text = [re.sub(r'\\s+', ' ', text) for text in processed_text]\n",
    "    return processed_text\n",
    "\n",
    "chunked_text = text_splitter.split_text(data[0].page_content)\n",
    "processed_chunked_text = process_text(chunked_text)\n",
    "processed_chunked_text"
   ]
  },
  {
   "cell_type": "markdown",
   "metadata": {},
   "source": [
    "### Main"
   ]
  },
  {
   "cell_type": "code",
   "execution_count": 16,
   "metadata": {},
   "outputs": [
    {
     "name": "stdout",
     "output_type": "stream",
     "text": [
      "mkdir: cannot create directory ‘data/summaries/’: File exists\n"
     ]
    },
    {
     "name": "stdout",
     "output_type": "stream",
     "text": [
      "mkdir: cannot create directory ‘data/chunks/’: File exists\n"
     ]
    }
   ],
   "source": [
    "!mkdir data/summaries/\n",
    "!mkdir data/chunks/"
   ]
  },
  {
   "cell_type": "code",
   "execution_count": 17,
   "metadata": {},
   "outputs": [
    {
     "data": {
      "text/plain": [
       "833"
      ]
     },
     "execution_count": 17,
     "metadata": {},
     "output_type": "execute_result"
    }
   ],
   "source": [
    "yml_data = {}\n",
    "full_data = df.set_index('DESC')['LINK'].to_dict()\n",
    "len(full_data) # ~800 links"
   ]
  },
  {
   "cell_type": "code",
   "execution_count": null,
   "metadata": {},
   "outputs": [],
   "source": [
    "for desc, link in tqdm(sample_data.items()):\n",
    "    print(f'Processing {desc}')\n",
    "    # load URL\n",
    "    loader = UnstructuredURLLoader(urls=[link], mode='single', show_progress_bar=False)\n",
    "    doc = loader.load()\n",
    "    \n",
    "    # create summarization\n",
    "    summary = summarize_with_stuff(doc, llm, summarize_prompt=SUMMARIZE_PROMPT)\n",
    "    with open(f'data/summaries/{desc}.txt', 'w') as f:\n",
    "        f.write(summary)\n",
    "    # print('Summary created')\n",
    "        \n",
    "    # create chunks\n",
    "    chunked_text = text_splitter.split_text(doc[0].page_content)\n",
    "    processed_chunked_text = process_text(chunked_text)\n",
    "    for j, chunk in enumerate(processed_chunked_text):\n",
    "        with open(f'data/chunks/{desc}_{j}.txt', 'w') as f:\n",
    "            f.write(chunk)\n",
    "    # print('Chunked')\n",
    "            \n",
    "    # add information to yml file\n",
    "    yml_data[desc] = {\n",
    "        'link': link,\n",
    "        'chunks': [f'{desc}_{j}.txt' for j in range(len(processed_chunked_text))],\n",
    "        'summary': f'{desc}.txt'\n",
    "    }\n",
    "    \n",
    "with open('data/chunking.yml', 'w') as f:\n",
    "    yaml.dump(yml_data, f)"
   ]
  }
 ],
 "metadata": {
  "kernelspec": {
   "display_name": ".venv",
   "language": "python",
   "name": "python3"
  },
  "language_info": {
   "codemirror_mode": {
    "name": "ipython",
    "version": 3
   },
   "file_extension": ".py",
   "mimetype": "text/x-python",
   "name": "python",
   "nbconvert_exporter": "python",
   "pygments_lexer": "ipython3",
   "version": "3.10.6"
  }
 },
 "nbformat": 4,
 "nbformat_minor": 2
}
