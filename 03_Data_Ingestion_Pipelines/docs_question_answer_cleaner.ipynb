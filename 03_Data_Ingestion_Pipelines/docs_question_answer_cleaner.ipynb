{
 "cells": [
  {
   "cell_type": "code",
   "execution_count": 45,
   "metadata": {},
   "outputs": [],
   "source": [
    "import pandas as pd\n"
   ]
  },
  {
   "cell_type": "code",
   "execution_count": 55,
   "metadata": {},
   "outputs": [],
   "source": [
    "import pandas as pd\n",
    "\n",
    "def parse_text_to_df_revised(file_path, encoding):\n",
    "    with open(file_path, 'r', encoding=encoding) as file:\n",
    "        lines = file.readlines()\n",
    "\n",
    "    data = []\n",
    "    current_url = ''\n",
    "\n",
    "    for line in lines:\n",
    "        line = line.strip()\n",
    "        if line.startswith('URL:'):\n",
    "            current_url = line.split('URL:')[1].strip()\n",
    "        elif line.startswith('QUESTION:'):\n",
    "            question = line.split('QUESTION:')[1].strip()\n",
    "            answer = ''\n",
    "            no_info_flag = False\n",
    "        elif line.startswith('ANSWER:'):\n",
    "            answer = line.split('ANSWER:')[1].strip()\n",
    "            data.append([current_url, question, answer])\n",
    "        elif line == 'NOT ENOUGH INFORMATION':\n",
    "            no_info_flag = True\n",
    "            data.append([current_url, '', 'NOT ENOUGH INFORMATION'])\n",
    "\n",
    "    df = pd.DataFrame(data, columns=['URL', 'Question', 'Answer'])\n",
    "    return df\n",
    "\n",
    "# Parsing the file\n",
    "file_path = \"./output_doc_qa_pairs.txt\"\n",
    "df_revised = parse_text_to_df_revised(file_path, 'ISO-8859-1')\n",
    "\n",
    "# Optionally, to export the DataFrame to a CSV file\n",
    "csv_file_path = 'documentation_question_answer_pairs.csv'  # Replace with your desired CSV file path\n",
    "df_revised.to_csv(csv_file_path, index=False)"
   ]
  },
  {
   "cell_type": "code",
   "execution_count": null,
   "metadata": {},
   "outputs": [],
   "source": []
  }
 ],
 "metadata": {
  "kernelspec": {
   "display_name": ".venv",
   "language": "python",
   "name": "python3"
  },
  "language_info": {
   "codemirror_mode": {
    "name": "ipython",
    "version": 3
   },
   "file_extension": ".py",
   "mimetype": "text/x-python",
   "name": "python",
   "nbconvert_exporter": "python",
   "pygments_lexer": "ipython3",
   "version": "3.10.7"
  }
 },
 "nbformat": 4,
 "nbformat_minor": 2
}
