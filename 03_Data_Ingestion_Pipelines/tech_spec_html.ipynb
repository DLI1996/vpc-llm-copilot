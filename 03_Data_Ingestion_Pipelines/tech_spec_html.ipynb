{
 "cells": [
  {
   "cell_type": "markdown",
   "metadata": {},
   "source": [
    "TODO: add installation to README.md\n",
    "\n",
    "Following is an example with iPad, since we don't have the original tech spec file as PDF, we need to convert it from HTML using PDF first. Use the [wk<html>TOpdf download page](https://wkhtmltopdf.org/downloads.html) to download (or \n",
    "install it with a package manager). Note that there's also the optoino to install using one single line of cmd according to [packaging](https://github.com/wkhtmltopdf/packaging), but it also has a quite lot pre-req by itself."
   ]
  },
  {
   "cell_type": "markdown",
   "metadata": {},
   "source": [
    "### generate pdf from html"
   ]
  },
  {
   "cell_type": "code",
   "execution_count": 1,
   "metadata": {},
   "outputs": [],
   "source": [
    "import pdfkit\n",
    "import os\n",
    "from PyPDF2 import PdfReader\n",
    "from glob import glob"
   ]
  },
  {
   "cell_type": "code",
   "execution_count": 11,
   "metadata": {},
   "outputs": [],
   "source": [
    "URLS = [\n",
    "    'https://support.apple.com/kb/SP883?viewlocale=en_US&locale=en_US', # Pro\n",
    "    'https://support.apple.com/kb/SP866?viewlocale=en_US&locale=en_US', # Air\n",
    "    'https://support.apple.com/kb/SP788?viewlocale=en_US&locale=en_US', # Mini\n",
    "    'https://support.apple.com/kb/SP884?viewlocale=en_US&locale=en_US', # 10th Gen\n",
    "    'https://support.apple.com/kb/SP849?viewlocale=en_US&locale=en_US', # 9th Gen\n",
    "]\n",
    "\n",
    "FILE_NAMES = [\n",
    "    'ipad_pro', \n",
    "    'ipad_air', \n",
    "    'ipad_mini', \n",
    "    'ipad_10th_gen', \n",
    "    'ipad_9th_gen'\n",
    "]\n",
    "\n",
    "OUTPUT_DIR = 'output'\n",
    "\n",
    "# configure settings for pdf output\n",
    "options = {\n",
    "    \"page-size\": \"A4\",\n",
    "    \"margin-top\": \"0mm\",\n",
    "    \"margin-right\": \"0mm\",\n",
    "    \"margin-bottom\": \"0mm\",\n",
    "    \"margin-left\": \"0mm\",\n",
    "    \"encoding\": \"UTF-8\",\n",
    "}"
   ]
  },
  {
   "cell_type": "code",
   "execution_count": 12,
   "metadata": {},
   "outputs": [
    {
     "name": "stdout",
     "output_type": "stream",
     "text": [
      "output/ipad_pro.pdf saved\n",
      "output/ipad_air.pdf saved\n",
      "output/ipad_mini.pdf saved\n",
      "output/ipad_10th_gen.pdf saved\n",
      "output/ipad_9th_gen.pdf saved\n"
     ]
    }
   ],
   "source": [
    "if not os.path.exists(OUTPUT_DIR):\n",
    "    os.makedirs(OUTPUT_DIR)\n",
    "\n",
    "for url, pdf_file in zip(URLS, FILE_NAMES):\n",
    "    pdf_file_name = os.path.join(OUTPUT_DIR, pdf_file + '.pdf') # e.g., output/ipad_pro.pdf\n",
    "    pdfkit.from_url(url, pdf_file_name, options=options)\n",
    "    print(f'{pdf_file_name} saved')"
   ]
  },
  {
   "cell_type": "markdown",
   "metadata": {},
   "source": [
    "### convert html to text and summarize"
   ]
  },
  {
   "cell_type": "code",
   "execution_count": 34,
   "metadata": {},
   "outputs": [],
   "source": [
    "def get_pdf_text(pdf_doc):\n",
    "    text = \"\"\n",
    "    pdf_reader = PdfReader(pdf_doc)\n",
    "    for page in pdf_reader.pages:\n",
    "        text += page.extract_text()\n",
    "    return text"
   ]
  },
  {
   "cell_type": "code",
   "execution_count": 35,
   "metadata": {},
   "outputs": [
    {
     "data": {
      "text/plain": [
       "'Languages\\n \\nEnglish\\niPad Pro 12.9-inch (6th generation) - Technical\\nSpecifications\\nYear introduced: 2022\\nIdentify your iPad model\\nFinish\\nSilver\\nSpace Gray\\nCapacity\\n128GB\\n256GB\\n512GB\\n1TB\\n2TB\\nSize and W'"
      ]
     },
     "execution_count": 35,
     "metadata": {},
     "output_type": "execute_result"
    }
   ],
   "source": [
    "# test_doc = r'output/ipad_pro.pdf'\n",
    "# pdf_text = get_pdf_text(test_doc)\n",
    "# pdf_text[:200]"
   ]
  },
  {
   "cell_type": "code",
   "execution_count": null,
   "metadata": {},
   "outputs": [],
   "source": [
    "pdf_docs = glob(f'{OUTPUT_DIR}/*.pdf') # all PDF files in the list\n",
    "for doc in pdf_docs:\n",
    "    txt = get_pdf_text(doc)\n",
    "    \n",
    "    # implement\n",
    "    # rest of process is already taken cared of in Wencheng's code"
   ]
  }
 ],
 "metadata": {
  "kernelspec": {
   "display_name": ".venv",
   "language": "python",
   "name": "python3"
  },
  "language_info": {
   "codemirror_mode": {
    "name": "ipython",
    "version": 3
   },
   "file_extension": ".py",
   "mimetype": "text/x-python",
   "name": "python",
   "nbconvert_exporter": "python",
   "pygments_lexer": "ipython3",
   "version": "3.10.6"
  }
 },
 "nbformat": 4,
 "nbformat_minor": 2
}
