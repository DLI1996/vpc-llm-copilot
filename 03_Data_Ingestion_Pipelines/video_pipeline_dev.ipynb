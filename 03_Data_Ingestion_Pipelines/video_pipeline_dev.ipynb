{
 "cells": [
  {
   "cell_type": "code",
   "execution_count": 1,
   "metadata": {},
   "outputs": [],
   "source": [
    "#import packages\n",
    "\n",
    "import os\n",
    "from dotenv import load_dotenv\n",
    "\n",
    "from langchain.document_loaders import YoutubeLoader\n",
    "import youtube_transcript_api\n",
    "import pytube\n",
    "\n",
    "\n",
    "from langchain.chains.llm import LLMChain\n",
    "from langchain.prompts import PromptTemplate\n",
    "from langchain.chains.combine_documents.stuff import StuffDocumentsChain\n",
    "from langchain.chat_models import ChatOpenAI\n",
    "from langchain.chains.summarize import load_summarize_chain"
   ]
  },
  {
   "cell_type": "code",
   "execution_count": 2,
   "metadata": {},
   "outputs": [],
   "source": [
    "#loading environment variables for api keys from .env file\n",
    "\n",
    "%load_ext dotenv\n",
    "%dotenv\n",
    "chatGPT_api_key = os.getenv(\"CHATGPT_API_KEY\")"
   ]
  },
  {
   "cell_type": "markdown",
   "metadata": {},
   "source": [
    "## Youtube Transcripts Loading"
   ]
  },
  {
   "cell_type": "code",
   "execution_count": 6,
   "metadata": {},
   "outputs": [],
   "source": [
    "#create a interfact allow for user to input youtube url\n",
    "\n",
    "url = input(\"Enter a youtube url: \")"
   ]
  },
  {
   "cell_type": "code",
   "execution_count": 7,
   "metadata": {},
   "outputs": [
    {
     "data": {
      "text/plain": [
       "[Document(page_content=\"♪ Thrilling cinematic music ♪ [REVVED ENGINE PASSING] [REVVING] [TIRES SQUEALING] [REVVING] ♪ [REVVING AND SCREECHING] [EXPLOSIONS] The titanium iPhone 15 Pro, built with\\nan aerospace-grade material, a new level\\nof mobile gaming power, and a camera that can literally\\nshoot a blockbuster film. - Wait, what? A titanium gaming powerhouse\\nmovie camera phone? Is that even a thing? - Yes, it is definitely a thing. Titanium, the same material\\nused in spacecraft design, makes iPhone 15 Pro\\nand iPhone 15 Pro Max our lightest Pro models ever. Titanium's unique properties\\ngive it one of the highest strength-to-weight ratios\\nof any metal. - Which basically\\nmeans it's light enough to get up into space\\nand strong enough to make it all the way\\nback to Earth. Oops. - The new design\\ncomes in four Pro finishes and now includes\\na USB-C connector with superfast transfer speeds. And there's\\na customizable Action button for quicker access\\nto your favorite feature, from opening the camera\\nto activating a shortcut. iPhone 15 Pro\\ngets a major performance upgrade from the A17 Pro chip. With a new 6-core GPU\\nand a faster Neural Engine, it becomes a ridiculously\\npowerful mobile gaming machine, enabling higher-quality graphics\\nand rich, immersive game worlds never seen before\\non a smartphone. [SNARLING] - Whoa, these graphics\\nbring out every beautiful, disgusting detail. [ROARS] - It's truly horrifying. - It's a new chapter\\nin performance for iPhone and a new era of mobile gaming\\nfor the world. For photography,\\nthe new Pro camera system pushes the limits\\nof what you can capture with a smartphone. It's like having\\nseven pro lenses at the ready, ranging from 13-millimeter focal\\nlength on the Ultra Wide camera to 120-millimeter\\non the new 5x Telephoto camera on iPhone 15 Pro Max. - Tell her to take four steps\\nto the left, please. - The Pro Max gets iPhone's\\nlongest optical zoom ever, using a first-of-its-kind\\ntetra prism design. - It's like having\\na huge telephoto lens, but it's just in there. - And the more advanced\\n48-megapixel Main camera brings super-high resolution\\nto photos, which can now be turned into\\na portrait after you've shot, with an adjustable focus point\\nfor an all-new level of control. - That's better. - And when it comes\\nto filmmaking, it's now possible to record\\ndirectly to an external drive, enabling iPhone 15 Pro\\nto shoot in ProRes 4K at 60 frames per second. - Action!\\n[REVVING] - So the camera captures\\nevery detail of this. [EXPLOSIONS] - Cut! - With up to 20 times faster\\ntransfers enabled by USB 3 and support for pro formats, the workflow between\\nshooting and post-production is massively improved. - So I can take that footage\\nand do this and this, and voilà, cinema. - A little less magenta. - She's right. - Whether big movies\\nor everyday videos, professional-level filmmaking\\nis in the palm of your hand. So yes, a movie-making,\\nhigh-res-shot-taking gaming powerhouse built\\nwith aerospace-grade titanium. iPhone 15 Pro is the most\\npowerful iPhone ever made. [CLANG]\\n- Boom. ♪\", metadata={'source': 'xqyUdNxWazA', 'title': 'Introducing iPhone 15 Pro | Apple', 'description': 'Unknown', 'view_count': 34678446, 'thumbnail_url': 'https://i.ytimg.com/vi/xqyUdNxWazA/hq720.jpg', 'publish_date': '2023-09-12 00:00:00', 'length': 240, 'author': 'Apple'})]"
      ]
     },
     "execution_count": 7,
     "metadata": {},
     "output_type": "execute_result"
    }
   ],
   "source": [
    "#loading transcripts from youtube videos by using url\n",
    "\n",
    "#url = 'https://www.youtube.com/watch?v=OushE7mq0Ak' #url of the video (Apple Business Essentials)\n",
    "loader = YoutubeLoader.from_youtube_url(\n",
    "    url,\n",
    "    add_video_info=True\n",
    ")\n",
    "loader.load()"
   ]
  },
  {
   "cell_type": "code",
   "execution_count": 8,
   "metadata": {},
   "outputs": [
    {
     "name": "stdout",
     "output_type": "stream",
     "text": [
      "Introducing iPhone 15 Pro | Apple\n"
     ]
    }
   ],
   "source": [
    "#define video meta data\n",
    "video_metadata  = loader.load()[0].metadata\n",
    "video_title = video_metadata['title']\n",
    "print(video_title)"
   ]
  },
  {
   "cell_type": "code",
   "execution_count": 9,
   "metadata": {},
   "outputs": [
    {
     "name": "stdout",
     "output_type": "stream",
     "text": [
      "♪ Thrilling cinematic music ♪ [REVVED ENGINE PASSING] [REVVING] [TIRES SQUEALING] [REVVING] ♪ [REVVING AND SCREECHING] [EXPLOSIONS] The titanium iPhone 15 Pro, built with\n",
      "an aerospace-grade material, a new level\n",
      "of mobile gaming power, and a camera that can literally\n",
      "shoot a blockbuster film. - Wait, what? A titanium gaming powerhouse\n",
      "movie camera phone? Is that even a thing? - Yes, it is definitely a thing. Titanium, the same material\n",
      "used in spacecraft design, makes iPhone 15 Pro\n",
      "and iPhone 15 Pro Max our lightest Pro models ever. Titanium's unique properties\n",
      "give it one of the highest strength-to-weight ratios\n",
      "of any metal. - Which basically\n",
      "means it's light enough to get up into space\n",
      "and strong enough to make it all the way\n",
      "back to Earth. Oops. - The new design\n",
      "comes in four Pro finishes and now includes\n",
      "a USB-C connector with superfast transfer speeds. And there's\n",
      "a customizable Action button for quicker access\n",
      "to your favorite feature, from opening the camera\n",
      "to activating a shortcut. iPhone 15 Pro\n",
      "gets a major performance upgrade from the A17 Pro chip. With a new 6-core GPU\n",
      "and a faster Neural Engine, it becomes a ridiculously\n",
      "powerful mobile gaming machine, enabling higher-quality graphics\n",
      "and rich, immersive game worlds never seen before\n",
      "on a smartphone. [SNARLING] - Whoa, these graphics\n",
      "bring out every beautiful, disgusting detail. [ROARS] - It's truly horrifying. - It's a new chapter\n",
      "in performance for iPhone and a new era of mobile gaming\n",
      "for the world. For photography,\n",
      "the new Pro camera system pushes the limits\n",
      "of what you can capture with a smartphone. It's like having\n",
      "seven pro lenses at the ready, ranging from 13-millimeter focal\n",
      "length on the Ultra Wide camera to 120-millimeter\n",
      "on the new 5x Telephoto camera on iPhone 15 Pro Max. - Tell her to take four steps\n",
      "to the left, please. - The Pro Max gets iPhone's\n",
      "longest optical zoom ever, using a first-of-its-kind\n",
      "tetra prism design. - It's like having\n",
      "a huge telephoto lens, but it's just in there. - And the more advanced\n",
      "48-megapixel Main camera brings super-high resolution\n",
      "to photos, which can now be turned into\n",
      "a portrait after you've shot, with an adjustable focus point\n",
      "for an all-new level of control. - That's better. - And when it comes\n",
      "to filmmaking, it's now possible to record\n",
      "directly to an external drive, enabling iPhone 15 Pro\n",
      "to shoot in ProRes 4K at 60 frames per second. - Action!\n",
      "[REVVING] - So the camera captures\n",
      "every detail of this. [EXPLOSIONS] - Cut! - With up to 20 times faster\n",
      "transfers enabled by USB 3 and support for pro formats, the workflow between\n",
      "shooting and post-production is massively improved. - So I can take that footage\n",
      "and do this and this, and voilà, cinema. - A little less magenta. - She's right. - Whether big movies\n",
      "or everyday videos, professional-level filmmaking\n",
      "is in the palm of your hand. So yes, a movie-making,\n",
      "high-res-shot-taking gaming powerhouse built\n",
      "with aerospace-grade titanium. iPhone 15 Pro is the most\n",
      "powerful iPhone ever made. [CLANG]\n",
      "- Boom. ♪\n"
     ]
    }
   ],
   "source": [
    "#define video transcript\n",
    "transcript = loader.load()[0].page_content\n",
    "print(transcript)"
   ]
  },
  {
   "cell_type": "code",
   "execution_count": 10,
   "metadata": {},
   "outputs": [
    {
     "name": "stdout",
     "output_type": "stream",
     "text": [
      "Transcript saved to: transcripts/Introducing iPhone 15 Pro  Apple.txt\n"
     ]
    }
   ],
   "source": [
    "#saving the transcript in a text file with the name of the video automatically for future use in a transcript folder\n",
    "\n",
    "# Remove invalid characters from title for filenames\n",
    "valid_filename = \"\".join(c for c in video_title if c not in ('?', '/', '\\\\', ':', '*', '<', '>', '|', '\"'))\n",
    "\n",
    "# Set the directory name and filename\n",
    "directory_name = \"transcripts\"\n",
    "filename = f\"{valid_filename}.txt\"\n",
    "\n",
    "# Ensure the directory exists\n",
    "if not os.path.exists(directory_name):\n",
    "    os.makedirs(directory_name)\n",
    "\n",
    "# Write the transcript to the file\n",
    "with open(os.path.join(directory_name, filename), 'w', encoding=\"utf-8\") as file:\n",
    "    file.write(transcript)\n",
    "\n",
    "print(f\"Transcript saved to: {directory_name}/{filename}\")"
   ]
  },
  {
   "cell_type": "code",
   "execution_count": 11,
   "metadata": {},
   "outputs": [
    {
     "name": "stdout",
     "output_type": "stream",
     "text": [
      "♪ Thrilling cinematic music ♪ [REVVED ENGINE PASSING] [REVVING] [TIRES SQUEALING] [REVVING] ♪ [REVVING AND SCREECHING] [EXPLOSIONS] The titanium iPhone 15 Pro, built with\n",
      "an aerospace-grade material, a new level\n",
      "of mobile gaming power, and a camera that can literally\n",
      "shoot a blockbuster film. - Wait, what? A titanium gaming powerhouse\n",
      "movie camera phone? Is that even a thing? - Yes, it is definitely a thing. Titanium, the same material\n",
      "used in spacecraft design, makes iPhone 15 Pro\n",
      "and iPhone 15 Pro Max our lightest Pro models ever. Titanium's unique properties\n",
      "give it one of the highest strength-to-weight ratios\n",
      "of any metal. - Which basically\n",
      "means it's light enough to get up into space\n",
      "and strong enough to make it all the way\n",
      "back to Earth. Oops. - The new design\n",
      "comes in four Pro finishes and now includes\n",
      "a USB-C connector with superfast transfer speeds. And there's\n",
      "a customizable Action button for quicker access\n",
      "to your favorite feature, from opening the camera\n",
      "to activating a shortcut. iPhone 15 Pro\n",
      "gets a major performance upgrade from the A17 Pro chip. With a new 6-core GPU\n",
      "and a faster Neural Engine, it becomes a ridiculously\n",
      "powerful mobile gaming machine, enabling higher-quality graphics\n",
      "and rich, immersive game worlds never seen before\n",
      "on a smartphone. [SNARLING] - Whoa, these graphics\n",
      "bring out every beautiful, disgusting detail. [ROARS] - It's truly horrifying. - It's a new chapter\n",
      "in performance for iPhone and a new era of mobile gaming\n",
      "for the world. For photography,\n",
      "the new Pro camera system pushes the limits\n",
      "of what you can capture with a smartphone. It's like having\n",
      "seven pro lenses at the ready, ranging from 13-millimeter focal\n",
      "length on the Ultra Wide camera to 120-millimeter\n",
      "on the new 5x Telephoto camera on iPhone 15 Pro Max. - Tell her to take four steps\n",
      "to the left, please. - The Pro Max gets iPhone's\n",
      "longest optical zoom ever, using a first-of-its-kind\n",
      "tetra prism design. - It's like having\n",
      "a huge telephoto lens, but it's just in there. - And the more advanced\n",
      "48-megapixel Main camera brings super-high resolution\n",
      "to photos, which can now be turned into\n",
      "a portrait after you've shot, with an adjustable focus point\n",
      "for an all-new level of control. - That's better. - And when it comes\n",
      "to filmmaking, it's now possible to record\n",
      "directly to an external drive, enabling iPhone 15 Pro\n",
      "to shoot in ProRes 4K at 60 frames per second. - Action!\n",
      "[REVVING] - So the camera captures\n",
      "every detail of this. [EXPLOSIONS] - Cut! - With up to 20 times faster\n",
      "transfers enabled by USB 3 and support for pro formats, the workflow between\n",
      "shooting and post-production is massively improved. - So I can take that footage\n",
      "and do this and this, and voilà, cinema. - A little less magenta. - She's right. - Whether big movies\n",
      "or everyday videos, professional-level filmmaking\n",
      "is in the palm of your hand. So yes, a movie-making,\n",
      "high-res-shot-taking gaming powerhouse built\n",
      "with aerospace-grade titanium. iPhone 15 Pro is the most\n",
      "powerful iPhone ever made. [CLANG]\n",
      "- Boom. ♪\n"
     ]
    }
   ],
   "source": [
    "# read all text files from a folder\n",
    "directory = 'transcripts'\n",
    "for filename in os.listdir(directory):\n",
    "    if filename.endswith(\".txt\"):\n",
    "        with open(os.path.join(directory, filename), 'r', encoding=\"utf-8\") as file:\n",
    "            text = file.read()\n",
    "            print(text)"
   ]
  },
  {
   "cell_type": "markdown",
   "metadata": {},
   "source": [
    "## Summarization"
   ]
  },
  {
   "cell_type": "code",
   "execution_count": 12,
   "metadata": {},
   "outputs": [],
   "source": [
    "# Define prompt\n",
    "prompt_template = \"\"\"Write a concise summary of the following:\n",
    "\"{text}\"\n",
    "CONCISE SUMMARY:\"\"\"\n",
    "prompt = PromptTemplate.from_template(prompt_template)"
   ]
  },
  {
   "cell_type": "code",
   "execution_count": 13,
   "metadata": {},
   "outputs": [],
   "source": [
    "# Define LLM chain\n",
    "llm = ChatOpenAI(temperature=0, model_name=\"gpt-3.5-turbo-16k\", openai_api_key= chatGPT_api_key)\n",
    "llm_chain = LLMChain(llm=llm, prompt=prompt)"
   ]
  },
  {
   "cell_type": "code",
   "execution_count": null,
   "metadata": {},
   "outputs": [],
   "source": [
    "# Define StuffDocumentsChain\n",
    "stuff_chain = StuffDocumentsChain(\n",
    "    llm_chain=llm_chain, document_variable_name=\"text\"\n",
    ")\n",
    "\n",
    "docs = loader.load()\n",
    "summary_information = stuff_chain.run(docs)\n",
    "print(summary_information)"
   ]
  },
  {
   "cell_type": "code",
   "execution_count": 14,
   "metadata": {},
   "outputs": [],
   "source": [
    "summary_information = 'sumaary of the video for dmeo purpose'"
   ]
  },
  {
   "cell_type": "code",
   "execution_count": 15,
   "metadata": {},
   "outputs": [
    {
     "name": "stdout",
     "output_type": "stream",
     "text": [
      "Summary saved to: summary/Introducing iPhone 15 Pro  Apple.txt\n"
     ]
    }
   ],
   "source": [
    "# saved summary information in a text file with the name of the video automatically for future use in a summary folder\n",
    "\n",
    "# Remove invalid characters from title for filenames\n",
    "valid_filename = \"\".join(c for c in video_title if c not in ('?', '/', '\\\\', ':', '*', '<', '>', '|', '\"'))\n",
    "\n",
    "# Set the directory name and filename\n",
    "directory_name = \"summary\"\n",
    "filename = f\"{valid_filename}.txt\"\n",
    "\n",
    "# Ensure the directory exists\n",
    "if not os.path.exists(directory_name):\n",
    "    os.makedirs(directory_name)\n",
    "\n",
    "# Write the transcript to the file\n",
    "with open(os.path.join(directory_name, filename), 'w', encoding=\"utf-8\") as file:\n",
    "    file.write(summary_information)\n",
    "\n",
    "print(f\"Summary saved to: {directory_name}/{filename}\")"
   ]
  }
 ],
 "metadata": {
  "kernelspec": {
   "display_name": "Python 3",
   "language": "python",
   "name": "python3"
  },
  "language_info": {
   "codemirror_mode": {
    "name": "ipython",
    "version": 3
   },
   "file_extension": ".py",
   "mimetype": "text/x-python",
   "name": "python",
   "nbconvert_exporter": "python",
   "pygments_lexer": "ipython3",
   "version": "3.10.12"
  },
  "orig_nbformat": 4
 },
 "nbformat": 4,
 "nbformat_minor": 2
}
