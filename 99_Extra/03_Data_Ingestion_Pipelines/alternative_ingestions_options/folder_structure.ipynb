{
 "cells": [
  {
   "cell_type": "code",
   "execution_count": 1,
   "metadata": {},
   "outputs": [
    {
     "data": {
      "text/plain": [
       "'/root/MLDS'"
      ]
     },
     "execution_count": 1,
     "metadata": {},
     "output_type": "execute_result"
    }
   ],
   "source": [
    "import os\n",
    "current_directory = os.getcwd()\n",
    "current_directory"
   ]
  },
  {
   "cell_type": "code",
   "execution_count": null,
   "metadata": {},
   "outputs": [],
   "source": [
    "# List of folders in the specified order along with comments\n",
    "folder_order_with_comments = {\n",
    "    'data_cleaning': 'Contains scripts for data cleaning', \n",
    "    'ERGM': 'Includes files for ERGM modeling', \n",
    "    'ALAAM': 'Files related to ALAAM analysis'\n",
    "    # Add more folders along with their comments\n",
    "}\n",
    "\n",
    "# Function to generate the ordered folder structure with comments\n",
    "def generate_ordered_folder_structure_with_comments(directory, order_with_comments):\n",
    "    folder_structure_with_comments = \"\"\n",
    "    for folder, comment in order_with_comments.items():\n",
    "        folder_path = os.path.join(directory, folder)\n",
    "        if os.path.exists(folder_path) and os.path.isdir(folder_path):\n",
    "            folder_structure_with_comments += f\"📁 {folder}: {comment}\\n\"\n",
    "    return folder_structure_with_comments\n",
    "\n",
    "# Generate the ordered folder structure with comments\n",
    "ordered_folder_structure_with_comments_text = generate_ordered_folder_structure_with_comments(\n",
    "    current_directory, folder_order_with_comments\n",
    ")\n",
    "\n",
    "# Add the ordered folder structure with comments to your notebook\n",
    "from IPython.display import display, Markdown\n",
    "\n",
    "display(Markdown(f\"## Ordered Folder Structure with Comments\\n\\n```plaintext\\n{ordered_folder_structure_with_comments_text}\\n```\"))\n"
   ]
  }
 ],
 "metadata": {
  "kernelspec": {
   "display_name": ".venv",
   "language": "python",
   "name": "python3"
  },
  "language_info": {
   "codemirror_mode": {
    "name": "ipython",
    "version": 3
   },
   "file_extension": ".py",
   "mimetype": "text/x-python",
   "name": "python",
   "nbconvert_exporter": "python",
   "pygments_lexer": "ipython3",
   "version": "3.10.7"
  }
 },
 "nbformat": 4,
 "nbformat_minor": 2
}
