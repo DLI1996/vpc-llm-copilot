{
 "cells": [
  {
   "cell_type": "code",
   "execution_count": 25,
   "metadata": {},
   "outputs": [],
   "source": [
    "\"\"\"\n",
    "This script transforms a CSV file by performing specific data manipulations.\n",
    "It changes the names of 'Question' and 'Answer' columns to lowercase, renames 'llm_answer' to 'llm_rag_answer',\n",
    "removes the 'URL' column, extracts the relevant part of each answer following \"ANSWER:\", and cleans up the 'answer' \n",
    "column to form a single paragraph.\n",
    "\n",
    "Functions:\n",
    "- load_csv(file_path): Load a CSV file into a DataFrame.\n",
    "- lowercase_column_names(df, columns): Change specified column names in a DataFrame to lowercase.\n",
    "- rename_column(df, old_name, new_name): Rename a column in a DataFrame.\n",
    "- remove_column(df, column): Remove a column from a DataFrame.\n",
    "- extract_answer_part(df, column): Extract the part of each answer following \"ANSWER:\".\n",
    "- clean_answer_column(df, column): Clean up the answer column to form a single paragraph.\n",
    "- save_csv(df, file_path): Save a DataFrame to a CSV file.\n",
    "- transform_csv(input_path, output_path): Perform the entire transformation process on the CSV file.\n",
    "\"\"\"\n",
    "\n",
    "import pandas as pd\n",
    "\n",
    "def load_csv(file_path):\n",
    "    \"\"\"Load a CSV file into a DataFrame.\"\"\"\n",
    "    return pd.read_csv(file_path)\n",
    "\n",
    "def lowercase_column_names(df, columns):\n",
    "    \"\"\"Change specified column names in a DataFrame to lowercase.\"\"\"\n",
    "    df.columns = [col.lower() if col in columns else col for col in df.columns]\n",
    "    return df\n",
    "\n",
    "def rename_column(df, old_name, new_name):\n",
    "    \"\"\"Rename a column in a DataFrame.\"\"\"\n",
    "    df.rename(columns={old_name: new_name}, inplace=True)\n",
    "    return df\n",
    "\n",
    "def remove_column(df, column):\n",
    "    \"\"\"Remove a column from a DataFrame.\"\"\"\n",
    "    return df.drop(column, axis=1)\n",
    "\n",
    "def split_answer(answer):\n",
    "    extracted_ans = answer.split(\"ANSWER:\\n        \\n        \")[-1]\n",
    "    return extracted_ans\n",
    "\n",
    "def extract_answer_part(df, column):\n",
    "    \"\"\"Extract the part of each answer following 'ANSWER:'.\"\"\"\n",
    "    df[column] = df[column].apply(lambda x: split_answer(x))\n",
    "    return df\n",
    "\n",
    "def clean_answer_column(df, column):\n",
    "    \"\"\"Clean up the answer column to form a single paragraph.\"\"\"\n",
    "    df[column] = df[column].apply(lambda x: ' '.join(x.split()))\n",
    "    return df\n",
    "\n",
    "def save_csv(df, file_path):\n",
    "    \"\"\"Save a DataFrame to a CSV file.\"\"\"\n",
    "    df.to_csv(file_path, index=False)\n",
    "\n",
    "def transform_csv(input_path, output_path):\n",
    "    \"\"\"Transform the CSV file according to the specified requirements.\"\"\"\n",
    "    df = load_csv(input_path)\n",
    "    df = lowercase_column_names(df, ['Question', 'Answer'])\n",
    "    df = rename_column(df, 'llm_answer', 'llm_rag_answer')\n",
    "    df = remove_column(df, 'URL')\n",
    "    df = extract_answer_part(df, 'llm_answer')\n",
    "    df = clean_answer_column(df, 'llm_answer')\n",
    "    save_csv(df, output_path)"
   ]
  },
  {
   "cell_type": "code",
   "execution_count": 4,
   "metadata": {},
   "outputs": [],
   "source": [
    "# Define file paths\n",
    "input_path = '../06_Data/Capstone_Data/llm_testing_results/lora_plus_rag_testing_output.csv'\n",
    "output_path = 'scoring/data/rag_and_llm_output_test.csv'"
   ]
  },
  {
   "cell_type": "code",
   "execution_count": 5,
   "metadata": {},
   "outputs": [],
   "source": [
    "df = load_csv(input_path)"
   ]
  },
  {
   "cell_type": "code",
   "execution_count": 21,
   "metadata": {},
   "outputs": [
    {
     "data": {
      "text/plain": [
       "'To view your DHCP option sets in Amazon VPC, you can use the Amazon VPC console or the command line. The default settings for a DHCP option set include domain name servers and domain name, but there are no settings for NTP servers or domain name resolution. The default DHCP option set is automatically created when you create a VPC, and it is not possible to modify the default settings. If you need to modify the default settings, you must create a new DHCP option set. The default DHCP option set is used by default when you create a VPC, but you can also associate a custom DHCP option set with a VPC. For more information about creating a custom DHCP option set, see the \"Create a custom DHCP option set\" section in the \"Work with DHCP option sets\" topic in the Amazon VPC User Guide.\\n\\n        The AWS Documentation does not provide a specific example of how to view DHCP option sets in Amazon VPC, but it does provide detailed instructions on how to create, modify, and delete DHCP option sets. The documentation also includes information on how to associate a custom DHCP option set with a VPC and how to view the settings for a default DHCP option set.\\n\\n        The AWS Documentation does not provide a specific example of how to view DHCP option sets in Amazon VPC, but it does provide detailed instructions on how to create, modify, and delete DHCP option sets. The documentation also includes information on how to associate a custom DHCP option set with a VPC and how to view the settings for a default DHCP option set.\\n\\n        The AWS Documentation does not provide a specific example of how to view DHCP option sets in Amazon VPC, but it does provide detailed instructions on how to create, modify, and delete DHCP option sets. The documentation also includes information on how to associate a custom DHCP option set with a VPC and how to view the settings for a default DHCP option set.\\n\\n        The AWS Documentation does not provide a specific example of how to view DHCP option sets in Amazon VPC, but it does provide detailed instructions on how to create, modify, and delete DHCP option sets. The documentation also includes information on how to associate a custom DHCP'"
      ]
     },
     "execution_count": 21,
     "metadata": {},
     "output_type": "execute_result"
    }
   ],
   "source": [
    "df['llm_answer'].iloc[1].split(\"ANSWER:\\n        \\n        \")[-1]"
   ]
  },
  {
   "cell_type": "code",
   "execution_count": 33,
   "metadata": {},
   "outputs": [
    {
     "data": {
      "text/plain": [
       "'To view your DHCP option sets in Amazon VPC, you can use the Amazon VPC console or the command line. The default settings for a DHCP option set include domain name servers and domain name, but there are no settings for NTP servers or domain name resolution. The default DHCP option set is automatically created when you create a VPC, and it is not possible to modify the default settings. If you need to modify the default settings, you must create a new DHCP option set. The default DHCP option set is used by default when you create a VPC, but you can also associate a custom DHCP option set with a VPC. For more information about creating a custom DHCP option set, see the \"Create a custom DHCP option set\" section in the \"Work with DHCP option sets\" topic in the Amazon VPC User Guide. The AWS Documentation does not provide a specific example of how to view DHCP option sets in Amazon VPC, but it does provide detailed instructions on how to create, modify, and delete DHCP option sets. The documentation also includes information on how to associate a custom DHCP option set with a VPC and how to view the settings for a default DHCP option set. The AWS Documentation does not provide a specific example of how to view DHCP option sets in Amazon VPC, but it does provide detailed instructions on how to create, modify, and delete DHCP option sets. The documentation also includes information on how to associate a custom DHCP option set with a VPC and how to view the settings for a default DHCP option set. The AWS Documentation does not provide a specific example of how to view DHCP option sets in Amazon VPC, but it does provide detailed instructions on how to create, modify, and delete DHCP option sets. The documentation also includes information on how to associate a custom DHCP option set with a VPC and how to view the settings for a default DHCP option set. The AWS Documentation does not provide a specific example of how to view DHCP option sets in Amazon VPC, but it does provide detailed instructions on how to create, modify, and delete DHCP option sets. The documentation also includes information on how to associate a custom DHCP'"
      ]
     },
     "execution_count": 33,
     "metadata": {},
     "output_type": "execute_result"
    }
   ],
   "source": [
    "extract_answer_part(df, 'llm_answer').iloc[1,3]"
   ]
  },
  {
   "cell_type": "code",
   "execution_count": null,
   "metadata": {},
   "outputs": [],
   "source": [
    "# Run the transformation\n",
    "transform_csv(input_path, output_path)"
   ]
  }
 ],
 "metadata": {
  "kernelspec": {
   "display_name": ".venv",
   "language": "python",
   "name": "python3"
  },
  "language_info": {
   "codemirror_mode": {
    "name": "ipython",
    "version": 3
   },
   "file_extension": ".py",
   "mimetype": "text/x-python",
   "name": "python",
   "nbconvert_exporter": "python",
   "pygments_lexer": "ipython3",
   "version": "3.10.7"
  }
 },
 "nbformat": 4,
 "nbformat_minor": 2
}
