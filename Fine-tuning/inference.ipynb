{
 "cells": [
  {
   "cell_type": "code",
   "execution_count": 1,
   "metadata": {},
   "outputs": [
    {
     "data": {
      "application/vnd.jupyter.widget-view+json": {
       "model_id": "df2c2ff0c3fc444ba784c783c1da3080",
       "version_major": 2,
       "version_minor": 0
      },
      "text/plain": [
       "Loading checkpoint shards:   0%|          | 0/2 [00:00<?, ?it/s]"
      ]
     },
     "metadata": {},
     "output_type": "display_data"
    },
    {
     "name": "stderr",
     "output_type": "stream",
     "text": [
      "/nfs/home/wzr5897/.local/lib/python3.10/site-packages/transformers/generation/configuration_utils.py:381: UserWarning: `do_sample` is set to `False`. However, `temperature` is set to `0.9` -- this flag is only used in sample-based generation modes. You should set `do_sample=True` or unset `temperature`. This was detected when initializing the generation config instance, which means the corresponding file may hold incorrect parameterization and should be fixed.\n",
      "  warnings.warn(\n",
      "/nfs/home/wzr5897/.local/lib/python3.10/site-packages/transformers/generation/configuration_utils.py:386: UserWarning: `do_sample` is set to `False`. However, `top_p` is set to `0.6` -- this flag is only used in sample-based generation modes. You should set `do_sample=True` or unset `top_p`. This was detected when initializing the generation config instance, which means the corresponding file may hold incorrect parameterization and should be fixed.\n",
      "  warnings.warn(\n"
     ]
    }
   ],
   "source": [
    "import os\n",
    "os.environ[\"CUDA_VISIBLE_DEVICES\"] = \"3\"\n",
    "\n",
    "import torch\n",
    "import pandas as pd\n",
    "from transformers import AutoTokenizer, AutoModelForCausalLM, BitsAndBytesConfig\n",
    "from peft import PeftModel\n",
    "\n",
    "\n",
    "# Load the base Llama 2 7B model\n",
    "base_model_id = \"NousResearch/Llama-2-7b-hf\"\n",
    "bnb_config = BitsAndBytesConfig(\n",
    "    load_in_4bit=True,\n",
    "    bnb_4bit_use_double_quant=True,\n",
    "    bnb_4bit_quant_type=\"nf4\",\n",
    "    bnb_4bit_compute_dtype=torch.bfloat16\n",
    ")\n",
    "base_model = AutoModelForCausalLM.from_pretrained(\n",
    "    base_model_id, \n",
    "    quantization_config=bnb_config, \n",
    "    device_map=\"auto\",\n",
    "    trust_remote_code=True\n",
    ")\n",
    "tokenizer = AutoTokenizer.from_pretrained(base_model_id, add_bos_token=True, trust_remote_code=True)\n",
    "\n",
    "# Load the QLoRA adapter\n",
    "path_llm_model = \"/nfs/home/wzr5897/amazon_lora_llm/llama2-7b-AmazonVPC-finetune/checkpoint-500\"\n",
    "ft_model = PeftModel.from_pretrained(base_model, path_llm_model)\n",
    "\n",
    "def clean_output(output):\n",
    "    # Example of cleaning up output - adjust as needed based on the actual output format\n",
    "    answer_start = output.find(\"### Answer:\")\n",
    "    if answer_start != -1:\n",
    "        return output[answer_start + len(\"### Answer:\"):].strip()\n",
    "    return output\n",
    "\n",
    "# Function to generate LLM answer\n",
    "def generate_llm_answer(question):\n",
    "    #question = question + \" #\"\n",
    "    model_input = tokenizer(question, return_tensors=\"pt\").to(\"cuda\")\n",
    "    ft_model.eval()\n",
    "    with torch.no_grad():\n",
    "        raw_output = tokenizer.decode(ft_model.generate(**model_input, max_new_tokens=300)[0], skip_special_tokens=True)\n",
    "        return clean_output(raw_output)"
   ]
  },
  {
   "cell_type": "code",
   "execution_count": 3,
   "metadata": {},
   "outputs": [],
   "source": [
    "# Read CSV file\n",
    "df = pd.read_csv(\"test.csv\")\n",
    "\n",
    "# Generate LLM answers for each question\n",
    "df['llm_answer'] = df['question'].apply(generate_llm_answer)\n",
    "\n",
    "# Save the new DataFrame to a CSV file\n",
    "df.to_csv(\"output_test.csv\", index=False)\n"
   ]
  },
  {
   "cell_type": "code",
   "execution_count": 5,
   "metadata": {},
   "outputs": [
    {
     "data": {
      "text/html": [
       "<div>\n",
       "<style scoped>\n",
       "    .dataframe tbody tr th:only-of-type {\n",
       "        vertical-align: middle;\n",
       "    }\n",
       "\n",
       "    .dataframe tbody tr th {\n",
       "        vertical-align: top;\n",
       "    }\n",
       "\n",
       "    .dataframe thead th {\n",
       "        text-align: right;\n",
       "    }\n",
       "</style>\n",
       "<table border=\"1\" class=\"dataframe\">\n",
       "  <thead>\n",
       "    <tr style=\"text-align: right;\">\n",
       "      <th></th>\n",
       "      <th>question</th>\n",
       "      <th>answer</th>\n",
       "      <th>llm_answer</th>\n",
       "    </tr>\n",
       "  </thead>\n",
       "  <tbody>\n",
       "    <tr>\n",
       "      <th>0</th>\n",
       "      <td>What are AWS managed policies for Network Access Analyzer and how do they function?</td>\n",
       "      <td>AWS managed policies for Network Access Analyzer are predefined permission sets that make it easier to assign permissions to users, groups, and roles within Amazon Virtual Private Cloud. AWS services are responsible for maintaining and periodically updating these managed policies to support new features or operations, ensuring that permissions do not get removed and existing permissions do not break. Notably, these managed policies cannot be modified by users. For instance, the AmazonVPCNetworkAccessAnalyzerFullAccessPolicy is an AWS managed policy that provides comprehensive permissions for creating, analyzing, and deleting Network Access Scopes, as well as describing various network path resources like firewalls and gateways. Additionally, AWS also offers managed policies designed for specific job functions across multiple services.</td>\n",
       "      <td>AWS managed policies for Network Access Analyzer are pre-built sets of permissions that simplify the process of managing access to Network Access Analyzer resources. These policies are created and maintained by AWS and are designed to cover common use cases, such as allowing users to create, view, and delete network access analyses. Users can attach these policies to their IAM identities to grant them the necessary permissions without having to create their own policies. The policies are stored in the AWS managed policies section of the IAM console and can be edited or deleted as needed. AWS recommends using managed policies for simplified access management and to ensure compliance with various AWS services.</td>\n",
       "    </tr>\n",
       "    <tr>\n",
       "      <th>1</th>\n",
       "      <td>What are the default quotas and their adjustability for AWS Network Access Analyzer, and how does one view or request changes to these quotas?</td>\n",
       "      <td>Your AWS account comes with default quotas for the Network Access Analyzer, which have replaced the term \"limits.\" There are several quotas associated with the Network Access Analyzer: Access scopes have a default quota of 1,000, and they are adjustable. Access scope analyses also have an adjustable default quota set at 10,000, and the number of concurrent access scope analyses is capped at 25, which is also adjustable. The findings per scope analysis have a fixed limit of 1,000 and are not adjustable. To view these quotas, you should navigate to the Service Quotas console, select \"AWS services,\" and then choose \"Network Insights.\" If you need to request an increase for a quota, you can follow the guidelines provided in the \"Requesting a quota increase\" section of the Service Quotas User Guide. It's important to note that every analysis includes all network interfaces in the account and region, and the analysis will time out after one hour and thirty minutes.</td>\n",
       "      <td>By default, AWS Network Access Analyzer comes with a set of quotas that can be adjusted to accommodate specific needs. The quotas include a maximum of 100,000 network access analyses per Region per day, a maximum of 100,000 network access analyses per account per Region per day, and a maximum of 100,000 network access analyses per account per Region per month. These quotas can be increased by submitting a request to the AWS Quotas console. Additionally, the Network Access Analyzer console provides a dashboard that displays the current usage of these quotas, including the number of analyses completed and the number of analyses remaining within the quota limits. Users can also view the quota history, which includes the number of analyses completed and the number of analyses remaining within the quota limits for the past 90 days. If a user needs to increase the quotas, they can follow the instructions provided in the AWS Quotas User Guide to request an increase. It's important to note that quota increases are subject to approval and may take several days to process. The Network Access Analyzer console</td>\n",
       "    </tr>\n",
       "    <tr>\n",
       "      <th>2</th>\n",
       "      <td>When was the initial release for the Network Access Analyzer according to the Amazon Virtual Private Cloud documentation?</td>\n",
       "      <td>According to the Amazon Virtual Private Cloud documentation, the Network Access Analyzer was initially released on December 1, 2021.</td>\n",
       "      <td>The Network Access Analyzer was released on November 1, 2022, according to the Amazon Virtual Private Cloud documentation. This tool was introduced to assist users in monitoring and analyzing network access to their resources within their AWS accounts. The Network Access Analyzer provides insights into the network traffic to and from resources, including EC2 instances, VPCs, and subnets, and it can be used to identify potential security issues or misconfigurations in the network setup. The Network Access Analyzer is available in all AWS Regions and is included in the AWS service fees. Users can access the Network Access Analyzer through the AWS Management Console or using the AWS CLI or AWS Tools for Windows PowerShell. The Network Access Analyzer is designed to work with both public and private subnets and can be used to analyze traffic from all sources, including on-premises networks, AWS services, and other AWS accounts. The Network Access Analyzer is intended to be used in conjunction with other AWS services, such as Amazon CloudWatch Events, to enhance network monitoring and security.</td>\n",
       "    </tr>\n",
       "  </tbody>\n",
       "</table>\n",
       "</div>"
      ],
      "text/plain": [
       "                                                                                                                                         question  \\\n",
       "0                                                             What are AWS managed policies for Network Access Analyzer and how do they function?   \n",
       "1  What are the default quotas and their adjustability for AWS Network Access Analyzer, and how does one view or request changes to these quotas?   \n",
       "2                       When was the initial release for the Network Access Analyzer according to the Amazon Virtual Private Cloud documentation?   \n",
       "\n",
       "                                                                                                                                                                                                                                                                                                                                                                                                                                                                                                                                                                                                                                                                                                                                                                                                                                                                                                                                                                                                          answer  \\\n",
       "0                                                                                                                                 AWS managed policies for Network Access Analyzer are predefined permission sets that make it easier to assign permissions to users, groups, and roles within Amazon Virtual Private Cloud. AWS services are responsible for maintaining and periodically updating these managed policies to support new features or operations, ensuring that permissions do not get removed and existing permissions do not break. Notably, these managed policies cannot be modified by users. For instance, the AmazonVPCNetworkAccessAnalyzerFullAccessPolicy is an AWS managed policy that provides comprehensive permissions for creating, analyzing, and deleting Network Access Scopes, as well as describing various network path resources like firewalls and gateways. Additionally, AWS also offers managed policies designed for specific job functions across multiple services.   \n",
       "1  Your AWS account comes with default quotas for the Network Access Analyzer, which have replaced the term \"limits.\" There are several quotas associated with the Network Access Analyzer: Access scopes have a default quota of 1,000, and they are adjustable. Access scope analyses also have an adjustable default quota set at 10,000, and the number of concurrent access scope analyses is capped at 25, which is also adjustable. The findings per scope analysis have a fixed limit of 1,000 and are not adjustable. To view these quotas, you should navigate to the Service Quotas console, select \"AWS services,\" and then choose \"Network Insights.\" If you need to request an increase for a quota, you can follow the guidelines provided in the \"Requesting a quota increase\" section of the Service Quotas User Guide. It's important to note that every analysis includes all network interfaces in the account and region, and the analysis will time out after one hour and thirty minutes.   \n",
       "2                                                                                                                                                                                                                                                                                                                                                                                                                                                                                                                                                                                                                                                                                                                                                                                                                                                                           According to the Amazon Virtual Private Cloud documentation, the Network Access Analyzer was initially released on December 1, 2021.   \n",
       "\n",
       "                                                                                                                                                                                                                                                                                                                                                                                                                                                                                                                                                                                                                                                                                                                                                                                                                                                                                                                                                                                                                                                                                                                                                    llm_answer  \n",
       "0                                                                                                                                                                                                                                                                                                                                                                                                                AWS managed policies for Network Access Analyzer are pre-built sets of permissions that simplify the process of managing access to Network Access Analyzer resources. These policies are created and maintained by AWS and are designed to cover common use cases, such as allowing users to create, view, and delete network access analyses. Users can attach these policies to their IAM identities to grant them the necessary permissions without having to create their own policies. The policies are stored in the AWS managed policies section of the IAM console and can be edited or deleted as needed. AWS recommends using managed policies for simplified access management and to ensure compliance with various AWS services.  \n",
       "1  By default, AWS Network Access Analyzer comes with a set of quotas that can be adjusted to accommodate specific needs. The quotas include a maximum of 100,000 network access analyses per Region per day, a maximum of 100,000 network access analyses per account per Region per day, and a maximum of 100,000 network access analyses per account per Region per month. These quotas can be increased by submitting a request to the AWS Quotas console. Additionally, the Network Access Analyzer console provides a dashboard that displays the current usage of these quotas, including the number of analyses completed and the number of analyses remaining within the quota limits. Users can also view the quota history, which includes the number of analyses completed and the number of analyses remaining within the quota limits for the past 90 days. If a user needs to increase the quotas, they can follow the instructions provided in the AWS Quotas User Guide to request an increase. It's important to note that quota increases are subject to approval and may take several days to process. The Network Access Analyzer console  \n",
       "2           The Network Access Analyzer was released on November 1, 2022, according to the Amazon Virtual Private Cloud documentation. This tool was introduced to assist users in monitoring and analyzing network access to their resources within their AWS accounts. The Network Access Analyzer provides insights into the network traffic to and from resources, including EC2 instances, VPCs, and subnets, and it can be used to identify potential security issues or misconfigurations in the network setup. The Network Access Analyzer is available in all AWS Regions and is included in the AWS service fees. Users can access the Network Access Analyzer through the AWS Management Console or using the AWS CLI or AWS Tools for Windows PowerShell. The Network Access Analyzer is designed to work with both public and private subnets and can be used to analyze traffic from all sources, including on-premises networks, AWS services, and other AWS accounts. The Network Access Analyzer is intended to be used in conjunction with other AWS services, such as Amazon CloudWatch Events, to enhance network monitoring and security.  "
      ]
     },
     "execution_count": 5,
     "metadata": {},
     "output_type": "execute_result"
    }
   ],
   "source": [
    "pd.set_option('display.max_colwidth', None)  # This will remove the truncation of column content\n",
    "df"
   ]
  },
  {
   "cell_type": "code",
   "execution_count": null,
   "metadata": {},
   "outputs": [],
   "source": []
  }
 ],
 "metadata": {
  "kernelspec": {
   "display_name": "Python 3",
   "language": "python",
   "name": "python3"
  },
  "language_info": {
   "codemirror_mode": {
    "name": "ipython",
    "version": 3
   },
   "file_extension": ".py",
   "mimetype": "text/x-python",
   "name": "python",
   "nbconvert_exporter": "python",
   "pygments_lexer": "ipython3",
   "version": "3.10.12"
  }
 },
 "nbformat": 4,
 "nbformat_minor": 2
}
